{
 "cells": [
  {
   "cell_type": "code",
   "execution_count": 15,
   "metadata": {},
   "outputs": [],
   "source": [
    "import qforte\n",
    "import numpy\n",
    "import scipy\n",
    "from scipy.optimize import minimize"
   ]
  },
  {
   "cell_type": "markdown",
   "metadata": {},
   "source": [
    "# want to make a gate acting on a single qubit that is simply a rotation \n"
   ]
  },
  {
   "cell_type": "code",
   "execution_count": 16,
   "metadata": {},
   "outputs": [],
   "source": [
    "def prep_circuit_maker(param):\n",
    "    temp_gate = qforte.make_gate(\"Rx\", 0, 0, param)\n",
    "    #temp_circ = qforte.QuantumCircuit()\n",
    "    #temp_circ.add_gate(temp_gate)\n",
    "    return temp_gate\n",
    "\n",
    "def exp_avg(measurements):\n",
    "    nume = sum(measurements)\n",
    "    denom = len(measurements)\n",
    "    return nume/denom\n",
    "        "
   ]
  },
  {
   "cell_type": "code",
   "execution_count": 18,
   "metadata": {},
   "outputs": [
    {
     "name": "stdout",
     "output_type": "stream",
     "text": [
      "Rx gate, target qubit:0, contol qubit:0\n",
      "  +0.656219 +0.000000 i  -0.000000 -0.754571 i  +0.000000 +0.000000 i  +0.000000 +0.000000 i\n",
      "  -0.000000 -0.754571 i  +0.656219 +0.000000 i  +0.000000 +0.000000 i  +0.000000 +0.000000 i\n",
      "  +0.000000 +0.000000 i  +0.000000 +0.000000 i  +0.000000 +0.000000 i  +0.000000 +0.000000 i\n",
      "  +0.000000 +0.000000 i  +0.000000 +0.000000 i  +0.000000 +0.000000 i  +0.000000 +0.000000 i\n",
      "\n"
     ]
    },
    {
     "data": {
      "text/plain": [
       "['(0.656219 +0.000000 i) |0>', '(0.000000 -0.754571 i) |1>']"
      ]
     },
     "execution_count": 18,
     "metadata": {},
     "output_type": "execute_result"
    }
   ],
   "source": [
    "wfn = qforte.QuantumComputer(1)\n",
    "\n",
    "#make a state preparation circuit\n",
    "p1 = prep_circuit_maker(1.71)\n",
    "print(p1.str())\n",
    "\n",
    "#apply the state preperatio circuit to build the state\n",
    "wfn.apply_gate(p1)\n",
    "\n",
    "wfn.str()"
   ]
  },
  {
   "cell_type": "code",
   "execution_count": 19,
   "metadata": {},
   "outputs": [
    {
     "data": {
      "text/plain": [
       "['Z gate, target qubit:0, contol qubit:0\\n  +1.000000 +0.000000 i  +0.000000 +0.000000 i  +0.000000 +0.000000 i  +0.000000 +0.000000 i\\n  +0.000000 +0.000000 i  -1.000000 +0.000000 i  +0.000000 +0.000000 i  +0.000000 +0.000000 i\\n  +0.000000 +0.000000 i  +0.000000 +0.000000 i  +0.000000 +0.000000 i  +0.000000 +0.000000 i\\n  +0.000000 +0.000000 i  +0.000000 +0.000000 i  +0.000000 +0.000000 i  +0.000000 +0.000000 i\\n']"
      ]
     },
     "execution_count": 19,
     "metadata": {},
     "output_type": "execute_result"
    }
   ],
   "source": [
    "#make hamiltonian \n",
    "H = qforte.QuantumCircuit()\n",
    "z0 = qforte.make_gate('Z',0,0)\n",
    "H.add_gate(z0)\n",
    "H.str()"
   ]
  },
  {
   "cell_type": "code",
   "execution_count": 22,
   "metadata": {},
   "outputs": [],
   "source": [
    "angle_range = numpy.linspace(0.0, 2 * numpy.pi, 20)\n",
    "exp_vals = [None]*len(angle_range)\n",
    "\n",
    "for k in range (len(angle_range)):\n",
    "    wfn1 = qforte.QuantumComputer(1)\n",
    "    #print(wfn1.str())\n",
    "    Rot = prep_circuit_maker(angle_range[k])\n",
    "    wfn1.apply_gate(Rot)\n",
    "    measurements = wfn1.measure_circuit(H,1000)\n",
    "    exp_vals[k] = exp_avg(measurements)\n",
    "    \n",
    "\n"
   ]
  },
  {
   "cell_type": "code",
   "execution_count": 23,
   "metadata": {},
   "outputs": [
    {
     "data": {
      "image/png": "[encoded data removed]",
      "text/plain": [
       "<Figure size 432x288 with 1 Axes>"
      ]
     },
     "metadata": {},
     "output_type": "display_data"
    }
   ],
   "source": [
    "import matplotlib.pyplot as plt\n",
    "plt.xlabel('Angle [radians]')\n",
    "plt.ylabel('Expectation value')\n",
    "plt.plot(angle_range, exp_vals)\n",
    "plt.show()"
   ]
  },
  {
   "cell_type": "code",
   "execution_count": 27,
   "metadata": {},
   "outputs": [],
   "source": [
    "def Energy(Theta): \n",
    "    wfn1 = qforte.QuantumComputer(1)\n",
    "    #print(wfn1.str())\n",
    "    Rot = prep_circuit_maker(Theta)\n",
    "    wfn1.apply_gate(Rot)\n",
    "    measurements = wfn1.measure_circuit(H,1000000)\n",
    "    return exp_avg(measurements)\n",
    "    "
   ]
  },
  {
   "cell_type": "code",
   "execution_count": 28,
   "metadata": {},
   "outputs": [
    {
     "name": "stdout",
     "output_type": "stream",
     "text": [
      "Optimization terminated successfully.\n",
      "         Current function value: -1.000000\n",
      "         Iterations: 36\n",
      "         Function evaluations: 86\n"
     ]
    }
   ],
   "source": [
    "res = minimize(Energy, [0.1], method='nelder-mead', options={'xtol': 1e-8, 'disp': True})"
   ]
  },
  {
   "cell_type": "code",
   "execution_count": 29,
   "metadata": {},
   "outputs": [
    {
     "name": "stdout",
     "output_type": "stream",
     "text": [
      " final_simplex: (array([[3.1425    ],\n",
      "       [3.14249999]]), array([-1., -1.]))\n",
      "           fun: -1.0\n",
      "       message: 'Optimization terminated successfully.'\n",
      "          nfev: 86\n",
      "           nit: 36\n",
      "        status: 0\n",
      "       success: True\n",
      "             x: array([3.1425])\n"
     ]
    }
   ],
   "source": [
    "print(res)"
   ]
  },
  {
   "cell_type": "code",
   "execution_count": null,
   "metadata": {},
   "outputs": [],
   "source": []
  }
 ],
 "metadata": {
  "kernelspec": {
   "display_name": "Python 3",
   "language": "python",
   "name": "python3"
  },
  "language_info": {
   "codemirror_mode": {
    "name": "ipython",
    "version": 3
   },
   "file_extension": ".py",
   "mimetype": "text/x-python",
   "name": "python",
   "nbconvert_exporter": "python",
   "pygments_lexer": "ipython3",
   "version": "3.6.5"
  }
 },
 "nbformat": 4,
 "nbformat_minor": 2
}
