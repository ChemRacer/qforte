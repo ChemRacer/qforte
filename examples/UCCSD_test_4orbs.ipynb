{
 "cells": [
  {
   "cell_type": "code",
   "execution_count": 1,
   "metadata": {},
   "outputs": [],
   "source": [
    "import numpy\n",
    "from numpy.random import randn\n",
    "\n",
    "from openfermion.transforms._jordan_wigner import *\n",
    "\n",
    "from openfermion.utils._trotter_exp_to_qgates import *\n",
    "\n",
    "from openfermion.utils import (commutator, count_qubits, expectation,\n",
    "                               hermitian_conjugated, normal_ordered,\n",
    "                               jordan_wigner_sparse, jw_hartree_fock_state,\n",
    "                               s_squared_operator, sz_operator)\n",
    "\n",
    "from openfermion.utils._unitary_cc import (uccsd_generator,\n",
    "                                           uccsd_singlet_generator,\n",
    "                                           uccsd_singlet_get_packed_amplitudes,\n",
    "                                           uccsd_singlet_paramsize)"
   ]
  },
  {
   "cell_type": "code",
   "execution_count": 34,
   "metadata": {},
   "outputs": [
    {
     "name": "stdout",
     "output_type": "stream",
     "text": [
      "singles\n",
      "[[0.+0.j 0.+0.j 0.+0.j 0.+0.j]\n",
      " [0.+0.j 0.+0.j 0.+0.j 0.+0.j]\n",
      " [0.+0.j 0.+3.j 0.+0.j 0.+0.j]\n",
      " [0.+0.j 0.+0.j 0.+0.j 0.+0.j]]\n"
     ]
    }
   ],
   "source": [
    "test_orbitals = 4\n",
    "\n",
    "# single_amplitudes = randn(*(test_orbitals,) * 2)\n",
    "# double_amplitudes = randn(*(test_orbitals,) * 4)\n",
    "\n",
    "single_amplitudes = numpy.zeros((test_orbitals, test_orbitals),dtype=complex)\n",
    "double_amplitudes = numpy.zeros((test_orbitals, test_orbitals,\n",
    "                                        test_orbitals, test_orbitals),dtype=complex)\n",
    "\n",
    "single_amplitudes[2][1] = 3.0j\n",
    "# single_amplitudes[2][1] = -3.0\n",
    "\n",
    "print('singles')\n",
    "print(single_amplitudes)\n",
    "# print('doubles')\n",
    "# print(double_amplitudes)\n"
   ]
  },
  {
   "cell_type": "code",
   "execution_count": 35,
   "metadata": {
    "scrolled": false
   },
   "outputs": [
    {
     "name": "stdout",
     "output_type": "stream",
     "text": [
      "openferion pre trotterized generator\n",
      "-3j [1^ 2] +\n",
      "3j [2^ 1]\n",
      "\n",
      "(1.5+0j) [X1 Y2] +\n",
      "(-1.5+0j) [Y1 X2]\n",
      "\n",
      "(-1.5+0j)\n",
      "Y 1\n",
      "X 2\n",
      "\n",
      "(1.5+0j)\n",
      "X 1\n",
      "Y 2\n"
     ]
    }
   ],
   "source": [
    "generator = uccsd_generator(single_amplitudes, double_amplitudes)\n",
    "qubit_op = jordan_wigner(generator)\n",
    "# qubit_op *= 1.0j\n",
    "\n",
    "print('openferion pre trotterized generator')\n",
    "print(generator)\n",
    "print('')\n",
    "print(qubit_op)\n",
    "\n",
    "\n",
    "for qubit_terms, coefficient in qubit_op.terms.items():\n",
    "    print('')\n",
    "    print(coefficient)\n",
    "    for tensor_term in qubit_terms:\n",
    "        print(tensor_term[1], tensor_term[0])\n"
   ]
  },
  {
   "cell_type": "code",
   "execution_count": null,
   "metadata": {},
   "outputs": [],
   "source": []
  },
  {
   "cell_type": "code",
   "execution_count": 4,
   "metadata": {},
   "outputs": [],
   "source": [
    "from forestopenfermion.pyquil_connector import qubitop_to_pyquilpauli\n",
    "from openfermion.ops import QubitOperator\n"
   ]
  },
  {
   "cell_type": "code",
   "execution_count": 5,
   "metadata": {},
   "outputs": [],
   "source": [
    "pauli_sum_representation = qubitop_to_pyquilpauli(qubit_op)\n",
    "# print(pauli_sum_representation)"
   ]
  },
  {
   "cell_type": "code",
   "execution_count": 6,
   "metadata": {
    "scrolled": false
   },
   "outputs": [],
   "source": [
    "from pyquil.quil import Program\n",
    "from forestopenfermion import exponentiate\n",
    "from pyquil.gates import *\n",
    "\n",
    "pyquil_program = exponentiate(qubit_op)\n",
    "pyquil_program = Program(X(0), X(1), pyquil_program)\n",
    "# print(pyquil_program)\n",
    "# print(len(pyquil_program))"
   ]
  },
  {
   "cell_type": "markdown",
   "metadata": {},
   "source": [
    "[H0  H1  H2  Rx3  cX1-0  cX2-1  cX3-2  Rz3  cX3-2  cX2-1  cX1-0  H0  H1  H2  Rx3  H0  H1  Rx2  H3  cX1-0  cX2-1  cX3-2  Rz3  cX3-2  cX2-1  cX1-0  H0  H1  Rx2  H3  H0  Rx1  cX1-0  Rz1  cX1-0  H0  Rx1  H0  Rx1  H2  H3  cX1-0  cX2-1  cX3-2  Rz3  cX3-2  cX2-1  cX1-0  H0  Rx1  H2  H3  H0  Rx1  Rx2  Rx3  cX1-0  cX2-1  cX3-2  Rz3  cX3-2  cX2-1  cX1-0  H0  Rx1  Rx2  Rx3  H0  Rx1  cX1-0  cX2-1  Rz2  cX2-1  cX1-0  H0  Rx1  H0  Rx1  cX1-0  cX3-1  Rz3  cX3-1  cX1-0  H0  Rx1  H0  Rx2  cX1-0  cX2-1  Rz2  cX2-1  cX1-0  H0  Rx2  H0  Rx2  cX1-0  cX2-1  cX3-2  Rz3  cX3-2  cX2-1  cX1-0  H0  Rx2  H0  Rx3  cX1-0  cX2-1  cX3-2  Rz3  cX3-2  cX2-1  cX1-0  H0  Rx3  H0  Rx3  cX1-0  cX3-1  Rz3  cX3-1  cX1-0  H0  Rx3  H0  Rx2  cX2-0  Rz2  cX2-0  H0  Rx2  H0  Rx3  cX2-0  cX3-2  Rz3  cX3-2  cX2-0  H0  Rx3  Rx0  H1  cX1-0  Rz1  cX1-0  Rx0  H1  Rx0  H1  H2  H3  cX1-0  cX2-1  cX3-2  Rz3  cX3-2  cX2-1  cX1-0  Rx0  H1  H2  H3  Rx0  H1  Rx2  Rx3  cX1-0  cX2-1  cX3-2  Rz3  cX3-2  cX2-1  cX1-0  Rx0  H1  Rx2  Rx3  Rx0  H1  cX1-0  cX2-1  Rz2  cX2-1  cX1-0  Rx0  H1  Rx0  H1  cX1-0  cX3-1  Rz3  cX3-1  cX1-0  Rx0  H1  Rx0  Rx1  H2  Rx3  cX1-0  cX2-1  cX3-2  Rz3  cX3-2  cX2-1  cX1-0  Rx0  Rx1  H2  Rx3  Rx0  Rx1  Rx2  H3  cX1-0  cX2-1  cX3-2  Rz3  cX3-2  cX2-1  cX1-0  Rx0  Rx1  Rx2  H3  Rx0  H2  cX1-0  cX2-1  Rz2  cX2-1  cX1-0  Rx0  H2  Rx0  H2  cX1-0  cX2-1  cX3-2  Rz3  cX3-2  cX2-1  cX1-0  Rx0  H2  Rx0  H3  cX1-0  cX2-1  cX3-2  Rz3  cX3-2  cX2-1  cX1-0  Rx0  H3  Rx0  H3  cX1-0  cX3-1  Rz3  cX3-1  cX1-0  Rx0  H3  Rx0  H2  cX2-0  Rz2  cX2-0  Rx0  H2  Rx0  H3  cX2-0  cX3-2  Rz3  cX3-2  cX2-0  Rx0  H3  H1  Rx2  cX1-0  cX2-1  Rz2  cX2-1  cX1-0  H1  Rx2  H1  Rx3  cX1-0  cX2-1  cX3-2  Rz3  cX3-2  cX2-1  cX1-0  H1  Rx3  Rx1  H2  cX1-0  cX2-1  Rz2  cX2-1  cX1-0  Rx1  H2  Rx1  H3  cX1-0  cX2-1  cX3-2  Rz3  cX3-2  cX2-1  cX1-0  Rx1  H3  H2  Rx3  cX2-0  cX3-2  Rz3  cX3-2  cX2-0  H2  Rx3  Rx2  H3  cX2-0  cX3-2  Rz3  cX3-2  cX2-0  Rx2  H3  H1  Rx2  cX2-1  Rz2  cX2-1  H1  Rx2  H1  Rx2  cX2-1  cX3-2  Rz3  cX3-2  cX2-1  H1  Rx2  H1  Rx3  cX2-1  cX3-2  Rz3  cX3-2  cX2-1  H1  Rx3  H1  Rx3  cX3-1  Rz3  cX3-1  H1  Rx3  Rx1  H2  cX2-1  Rz2  cX2-1  Rx1  H2  Rx1  H2  cX2-1  cX3-2  Rz3  cX3-2  cX2-1  Rx1  H2  Rx1  H3  cX2-1  cX3-2  Rz3  cX3-2  cX2-1  Rx1  H3  Rx1  H3  cX3-1  Rz3  cX3-1  Rx1  H3  H2  Rx3  cX2-1  cX3-2  Rz3  cX3-2  cX2-1  H2  Rx3  Rx2  H3 # cX2-1  cX3-2  Rz3  cX3-2  cX2-1  Rx2  H3  H2  Rx3  cX3-2  Rz3  cX3-2  H2  Rx3  Rx2  H3  cX3-2  Rz3  cX3-2  Rx2  H3]"
   ]
  },
  {
   "cell_type": "markdown",
   "metadata": {},
   "source": [
    "# The correct answer"
   ]
  },
  {
   "cell_type": "code",
   "execution_count": 7,
   "metadata": {},
   "outputs": [
    {
     "name": "stdout",
     "output_type": "stream",
     "text": [
      "\n",
      "(-0.5651687486+0j)|0011> + (0.223169612+0j)|0101> + (-0.0505823243+0j)|0110> + (-0.7514238465+0j)|1001> + (-0.2042297359+0j)|1010> + (0.1478967756+0j)|1100>\n"
     ]
    }
   ],
   "source": [
    "from pyquil.api import WavefunctionSimulator\n",
    "from pyquil import Program\n",
    "\n",
    "\n",
    "print('')\n",
    "wfn = WavefunctionSimulator().wavefunction(pyquil_program)\n",
    "print(wfn)"
   ]
  },
  {
   "cell_type": "code",
   "execution_count": 8,
   "metadata": {},
   "outputs": [
    {
     "data": {
      "text/plain": [
       "['(-0.000000 +0.000000 i) |0000>',\n",
       " '(0.000000 +0.000000 i) |1000>',\n",
       " '(0.000000 -0.000000 i) |0100>',\n",
       " '(-0.089068 +0.000000 i) |1100>',\n",
       " '(0.000000 -0.000000 i) |0010>',\n",
       " '(0.555595 +0.000000 i) |1010>',\n",
       " '(0.509890 +0.000000 i) |0110>',\n",
       " '(0.000000 -0.000000 i) |1110>',\n",
       " '(0.000000 -0.000000 i) |0001>',\n",
       " '(-0.090056 +0.000000 i) |1001>',\n",
       " '(0.643190 +0.000000 i) |0101>',\n",
       " '(0.000000 -0.000000 i) |1101>',\n",
       " '(-0.039881 +0.000000 i) |0011>',\n",
       " '(0.000000 -0.000000 i) |1011>',\n",
       " '(0.000000 -0.000000 i) |0111>',\n",
       " '(-0.000000 +0.000000 i) |1111>']"
      ]
     },
     "execution_count": 8,
     "metadata": {},
     "output_type": "execute_result"
    }
   ],
   "source": [
    "['(-0.000000 +0.000000 i) |0000>',\n",
    " '(0.000000 +0.000000 i) |1000>',\n",
    " '(0.000000 -0.000000 i) |0100>',\n",
    " '(-0.089068 +0.000000 i) |1100>',\n",
    " '(0.000000 -0.000000 i) |0010>',\n",
    " '(0.555595 +0.000000 i) |1010>',\n",
    " '(0.509890 +0.000000 i) |0110>',\n",
    " '(0.000000 -0.000000 i) |1110>',\n",
    " '(0.000000 -0.000000 i) |0001>',\n",
    " '(-0.090056 +0.000000 i) |1001>',\n",
    " '(0.643190 +0.000000 i) |0101>',\n",
    " '(0.000000 -0.000000 i) |1101>',\n",
    " '(-0.039881 +0.000000 i) |0011>',\n",
    " '(0.000000 -0.000000 i) |1011>',\n",
    " '(0.000000 -0.000000 i) |0111>',\n",
    " '(-0.000000 +0.000000 i) |1111>']"
   ]
  },
  {
   "cell_type": "markdown",
   "metadata": {},
   "source": [
    "# Now begin importing trial circuit to Qforte"
   ]
  },
  {
   "cell_type": "code",
   "execution_count": 9,
   "metadata": {},
   "outputs": [],
   "source": [
    "import qforte"
   ]
  },
  {
   "cell_type": "code",
   "execution_count": 10,
   "metadata": {},
   "outputs": [],
   "source": [
    "#get from openferion\n",
    "qforte_generator = qforte.build_from_openfermion(qubit_op)\n",
    "#qforte.smart_print(qforte_generator)"
   ]
  },
  {
   "cell_type": "markdown",
   "metadata": {},
   "source": [
    "# Now try to exponentiate the full operator "
   ]
  },
  {
   "cell_type": "code",
   "execution_count": 11,
   "metadata": {
    "scrolled": false
   },
   "outputs": [],
   "source": [
    "expn_generator = qforte.trotterization.trotterize(qforte_generator)\n",
    "#qforte.smart_print(expn)\n",
    "#expn.str()"
   ]
  },
  {
   "cell_type": "code",
   "execution_count": 12,
   "metadata": {},
   "outputs": [],
   "source": [
    "# Set HF state\n",
    "qc2 = qforte.QuantumComputer(4)\n",
    "qc2.apply_gate(qforte.make_gate('X',0,0))\n",
    "qc2.apply_gate(qforte.make_gate('X',1,1))\n",
    "#qc2.str()"
   ]
  },
  {
   "cell_type": "code",
   "execution_count": 13,
   "metadata": {},
   "outputs": [
    {
     "data": {
      "text/plain": [
       "['(-0.000000 +0.000000 i) |0000>',\n",
       " '(0.000000 +0.000000 i) |1000>',\n",
       " '(0.000000 +0.000000 i) |0100>',\n",
       " '(-0.565169 +0.000000 i) |1100>',\n",
       " '(0.000000 -0.000000 i) |0010>',\n",
       " '(0.223170 +0.000000 i) |1010>',\n",
       " '(-0.050582 +0.000000 i) |0110>',\n",
       " '(0.000000 +0.000000 i) |1110>',\n",
       " '(0.000000 +0.000000 i) |0001>',\n",
       " '(-0.751424 +0.000000 i) |1001>',\n",
       " '(-0.204230 +0.000000 i) |0101>',\n",
       " '(0.000000 +0.000000 i) |1101>',\n",
       " '(0.147897 +0.000000 i) |0011>',\n",
       " '(0.000000 -0.000000 i) |1011>',\n",
       " '(0.000000 -0.000000 i) |0111>',\n",
       " '(-0.000000 +0.000000 i) |1111>']"
      ]
     },
     "execution_count": 13,
     "metadata": {},
     "output_type": "execute_result"
    }
   ],
   "source": [
    "qc2.apply_circuit(expn_generator)\n",
    "qc2.str()"
   ]
  },
  {
   "cell_type": "markdown",
   "metadata": {},
   "source": [
    "# Now set up for variational optemization via VQE"
   ]
  },
  {
   "cell_type": "code",
   "execution_count": 14,
   "metadata": {},
   "outputs": [],
   "source": [
    "# import to get hamiltonian from psi \n",
    "import unittest\n",
    "import qforte\n",
    "from openfermion.hamiltonians import MolecularData\n",
    "from openfermion.transforms import get_fermion_operator, jordan_wigner\n",
    "from openfermionpsi4 import run_psi4\n",
    "import numpy"
   ]
  },
  {
   "cell_type": "code",
   "execution_count": 15,
   "metadata": {},
   "outputs": [
    {
     "name": "stdout",
     "output_type": "stream",
     "text": [
      "Hartree-Fock energy of -1.116151448914139 Hartree.\n",
      "Hartree-Fock energy of -1.1371170673687787 Hartree.\n",
      "Hartree-Fock energy of -1.1371170673370452 Hartree.\n"
     ]
    }
   ],
   "source": [
    "# Set molecule parameters.\n",
    "basis = 'sto-3g'\n",
    "multiplicity = 1\n",
    "bond_length_interval = 0.75\n",
    "n_points = 1\n",
    "\n",
    "# Set calculation parameters.\n",
    "run_scf = 1\n",
    "run_mp2 = 0\n",
    "run_cisd = 0\n",
    "run_ccsd = 1\n",
    "run_fci = 1\n",
    "delete_input = True\n",
    "delete_output = True\n",
    "\n",
    "# Generate molecule at different bond lengths.\n",
    "hf_energies = []\n",
    "fci_energies = []\n",
    "bond_lengths = []\n",
    "for point in range(1, n_points + 1):\n",
    "    bond_length = bond_length_interval * float(point)\n",
    "    bond_lengths += [bond_length]\n",
    "    geometry = [('H', (0., 0., 0.)), ('H', (0., 0., bond_length))]\n",
    "    molecule = MolecularData(\n",
    "        geometry, basis, multiplicity,\n",
    "        description=str(round(bond_length, 2)))\n",
    "    \n",
    "    # Run Psi4.\n",
    "    molecule = run_psi4(molecule,\n",
    "                        run_scf=run_scf,\n",
    "                        run_mp2=run_mp2,\n",
    "                        run_cisd=run_cisd,\n",
    "                        run_ccsd=run_ccsd,\n",
    "                        run_fci=run_fci)\n",
    "    \n",
    "print('Hartree-Fock energy of {} Hartree.'.format(molecule.hf_energy))\n",
    "print('Hartree-Fock energy of {} Hartree.'.format(molecule.ccsd_energy))\n",
    "print('Hartree-Fock energy of {} Hartree.'.format(molecule.fci_energy))"
   ]
  },
  {
   "cell_type": "code",
   "execution_count": 16,
   "metadata": {},
   "outputs": [],
   "source": [
    "#populate data and integrals\n",
    "molecule.load()\n",
    "\n",
    "# Get the Hamiltonian in an active space.\n",
    "active_space_start = 0\n",
    "active_space_stop = 2\n",
    "\n",
    "molecular_hamiltonian = molecule.get_molecular_hamiltonian(\n",
    "    occupied_indices=range(active_space_start),\n",
    "    active_indices=range(active_space_start, active_space_stop))\n",
    "\n",
    "# Map operator to fermions and qubits.\n",
    "fermion_hamiltonian = get_fermion_operator(molecular_hamiltonian)\n",
    "qubit_hamiltonian = jordan_wigner(fermion_hamiltonian)\n",
    "#qubit_hamiltonian.compress()\n",
    "# print('The Jordan-Wigner Molecular Hamiltonian in canonical basis:\\n{}'.format(qubit_hamiltonian))\n",
    "\n",
    "# print('\\nBuild Qforte Hamiltonian and generator to calculate the expectation value')\n",
    "qforte_hamiltonian = qforte.build_from_openfermion(qubit_hamiltonian)\n",
    "# print('\\nThe Molecular Hamiltonian in canonical basis:')\n",
    "# qforte.smart_print(qforte_hamiltonian)"
   ]
  },
  {
   "cell_type": "markdown",
   "metadata": {},
   "source": [
    "# Set up VQE object"
   ]
  },
  {
   "cell_type": "code",
   "execution_count": 17,
   "metadata": {},
   "outputs": [],
   "source": [
    "myVQE = qforte.VQE(4, 2, expn_generator, qforte_hamiltonian, 5000) "
   ]
  },
  {
   "cell_type": "code",
   "execution_count": 18,
   "metadata": {},
   "outputs": [
    {
     "ename": "AttributeError",
     "evalue": "'Experiment' object has no attribute 'RHF_ref'",
     "output_type": "error",
     "traceback": [
      "\u001b[0;31m---------------------------------------------------------------------------\u001b[0m",
      "\u001b[0;31mAttributeError\u001b[0m                            Traceback (most recent call last)",
      "\u001b[0;32m<ipython-input-18-2b3461a39d52>\u001b[0m in \u001b[0;36m<module>\u001b[0;34m()\u001b[0m\n\u001b[1;32m      2\u001b[0m \u001b[0mExper2\u001b[0m \u001b[0;34m=\u001b[0m \u001b[0mqforte\u001b[0m\u001b[0;34m.\u001b[0m\u001b[0mExperiment\u001b[0m\u001b[0;34m(\u001b[0m\u001b[0;36m4\u001b[0m\u001b[0;34m,\u001b[0m \u001b[0;36m2\u001b[0m\u001b[0;34m,\u001b[0m \u001b[0mexpn_generator\u001b[0m\u001b[0;34m,\u001b[0m \u001b[0mqforte_hamiltonian\u001b[0m\u001b[0;34m,\u001b[0m \u001b[0;36m5000\u001b[0m\u001b[0;34m)\u001b[0m\u001b[0;34m\u001b[0m\u001b[0;34m\u001b[0m\u001b[0m\n\u001b[1;32m      3\u001b[0m \u001b[0mparams2\u001b[0m \u001b[0;34m=\u001b[0m \u001b[0;34m[\u001b[0m\u001b[0;36m0.0\u001b[0m\u001b[0;34m]\u001b[0m \u001b[0;34m*\u001b[0m \u001b[0;36m44\u001b[0m\u001b[0;34m\u001b[0m\u001b[0;34m\u001b[0m\u001b[0m\n\u001b[0;32m----> 4\u001b[0;31m \u001b[0mprint\u001b[0m\u001b[0;34m(\u001b[0m\u001b[0mExper2\u001b[0m\u001b[0;34m.\u001b[0m\u001b[0mexperimental_avg\u001b[0m\u001b[0;34m(\u001b[0m\u001b[0mparams2\u001b[0m\u001b[0;34m)\u001b[0m\u001b[0;34m)\u001b[0m\u001b[0;34m\u001b[0m\u001b[0;34m\u001b[0m\u001b[0m\n\u001b[0m",
      "\u001b[0;32m~/Src/Qforte/qforte/build/lib.macosx-10.7-x86_64-3.6/qforte/experiment/experiment.py\u001b[0m in \u001b[0;36mexperimental_avg\u001b[0;34m(self, params)\u001b[0m\n\u001b[1;32m     52\u001b[0m \u001b[0;34m\u001b[0m\u001b[0m\n\u001b[1;32m     53\u001b[0m             \u001b[0;31m# set up for HF\u001b[0m\u001b[0;34m\u001b[0m\u001b[0;34m\u001b[0m\u001b[0;34m\u001b[0m\u001b[0m\n\u001b[0;32m---> 54\u001b[0;31m             \u001b[0;32mif\u001b[0m\u001b[0;34m(\u001b[0m\u001b[0mself\u001b[0m\u001b[0;34m.\u001b[0m\u001b[0mRHF_ref\u001b[0m\u001b[0;34m)\u001b[0m\u001b[0;34m:\u001b[0m\u001b[0;34m\u001b[0m\u001b[0;34m\u001b[0m\u001b[0m\n\u001b[0m\u001b[1;32m     55\u001b[0m                 \u001b[0mHFgen\u001b[0m \u001b[0;34m=\u001b[0m \u001b[0mqforte\u001b[0m\u001b[0;34m.\u001b[0m\u001b[0mQuantumCircuit\u001b[0m\u001b[0;34m(\u001b[0m\u001b[0;34m)\u001b[0m\u001b[0;34m\u001b[0m\u001b[0;34m\u001b[0m\u001b[0m\n\u001b[1;32m     56\u001b[0m                 \u001b[0;32mfor\u001b[0m \u001b[0mn\u001b[0m \u001b[0;32min\u001b[0m \u001b[0mrange\u001b[0m\u001b[0;34m(\u001b[0m\u001b[0mself\u001b[0m\u001b[0;34m.\u001b[0m\u001b[0mn_elec_\u001b[0m\u001b[0;34m)\u001b[0m\u001b[0;34m:\u001b[0m\u001b[0;34m\u001b[0m\u001b[0;34m\u001b[0m\u001b[0m\n",
      "\u001b[0;31mAttributeError\u001b[0m: 'Experiment' object has no attribute 'RHF_ref'"
     ]
    }
   ],
   "source": [
    "circ = qforte.QuantumCircuit()\n",
    "Exper2 = qforte.Experiment(4, 2, expn_generator, qforte_hamiltonian, 5000)\n",
    "params2 = [0.0] * 44 \n",
    "print(Exper2.experimental_avg(params2))"
   ]
  },
  {
   "cell_type": "markdown",
   "metadata": {},
   "source": [
    "# Perform the porcedure "
   ]
  },
  {
   "cell_type": "code",
   "execution_count": null,
   "metadata": {},
   "outputs": [],
   "source": [
    "optemized = myVQE.do_vqe()\n",
    "print(optemized.fun)\n"
   ]
  },
  {
   "cell_type": "code",
   "execution_count": null,
   "metadata": {},
   "outputs": [],
   "source": [
    "print(optemized.x)"
   ]
  }
 ],
 "metadata": {
  "kernelspec": {
   "display_name": "Python 3",
   "language": "python",
   "name": "python3"
  },
  "language_info": {
   "codemirror_mode": {
    "name": "ipython",
    "version": 3
   },
   "file_extension": ".py",
   "mimetype": "text/x-python",
   "name": "python",
   "nbconvert_exporter": "python",
   "pygments_lexer": "ipython3",
   "version": "3.6.7"
  }
 },
 "nbformat": 4,
 "nbformat_minor": 2
}
