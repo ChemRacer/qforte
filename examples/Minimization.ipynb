{
 "cells": [
  {
   "cell_type": "code",
   "execution_count": 11,
   "metadata": {},
   "outputs": [],
   "source": [
    "import qforte\n",
    "import numpy\n",
    "import scipy\n",
    "from scipy.optimize import minimize"
   ]
  },
  {
   "cell_type": "code",
   "execution_count": 12,
   "metadata": {},
   "outputs": [
    {
     "name": "stdout",
     "output_type": "stream",
     "text": [
      "Help on package qforte:\n",
      "\n",
      "NAME\n",
      "    qforte\n",
      "\n",
      "PACKAGE CONTENTS\n",
      "    experiment (package)\n",
      "    measure_test\n",
      "    qforte\n",
      "    vqe (package)\n",
      "\n",
      "FUNCTIONS\n",
      "    make_gate(...) method of builtins.PyCapsule instance\n",
      "        make_gate(type: str, target: int, control: int, parameter: float=0.0, mirror: bool=False) -> qforte.qforte.QuantumGate\n",
      "\n",
      "VERSION\n",
      "    0.1\n",
      "\n",
      "AUTHOR\n",
      "    Qforte Dev\n",
      "\n",
      "FILE\n",
      "    /Users/nstair/Src/Qforte/qforte/build/lib.macosx-10.7-x86_64-3.6/qforte/__init__.py\n",
      "\n",
      "\n"
     ]
    }
   ],
   "source": [
    "help(qforte)"
   ]
  },
  {
   "cell_type": "markdown",
   "metadata": {},
   "source": [
    "# want to make a parameterized gate acting on a single qubit that is simply a rotation \n"
   ]
  },
  {
   "cell_type": "code",
   "execution_count": 13,
   "metadata": {},
   "outputs": [],
   "source": [
    "def prep_circuit_maker(param):\n",
    "    temp_gate = qforte.make_gate(\"Rx\", 0, 0, param)\n",
    "    return temp_gate\n",
    "\n",
    "def exp_avg(measurements):\n",
    "    nume = sum(measurements)\n",
    "    denom = len(measurements)\n",
    "    return nume/denom\n",
    "\n",
    "def Energy(Theta): \n",
    "    wfn1 = qforte.QuantumComputer(1)\n",
    "    Rot = prep_circuit_maker(Theta)\n",
    "    wfn1.apply_gate(Rot)\n",
    "    measurements = wfn1.measure_circuit(H, 100000)\n",
    "    return exp_avg(measurements)\n",
    "        "
   ]
  },
  {
   "cell_type": "markdown",
   "metadata": {},
   "source": [
    "# Start the Quantum Computer"
   ]
  },
  {
   "cell_type": "code",
   "execution_count": 14,
   "metadata": {},
   "outputs": [
    {
     "data": {
      "text/plain": [
       "['(1.000000 +0.000000 i) |0>', '(0.000000 +0.000000 i) |1>']"
      ]
     },
     "execution_count": 14,
     "metadata": {},
     "output_type": "execute_result"
    }
   ],
   "source": [
    "# initialize a quantum computer object representing our wfn\n",
    "wfn = qforte.QuantumComputer(1)\n",
    "wfn.str()"
   ]
  },
  {
   "cell_type": "markdown",
   "metadata": {},
   "source": [
    "# A single state preparation "
   ]
  },
  {
   "cell_type": "code",
   "execution_count": 15,
   "metadata": {},
   "outputs": [
    {
     "name": "stdout",
     "output_type": "stream",
     "text": [
      "Rx gate, target qubit:0, contol qubit:0\n",
      "  +0.656219 +0.000000 i  -0.000000 -0.754571 i  +0.000000 +0.000000 i  +0.000000 +0.000000 i\n",
      "  -0.000000 -0.754571 i  +0.656219 +0.000000 i  +0.000000 +0.000000 i  +0.000000 +0.000000 i\n",
      "  +0.000000 +0.000000 i  +0.000000 +0.000000 i  +0.000000 +0.000000 i  +0.000000 +0.000000 i\n",
      "  +0.000000 +0.000000 i  +0.000000 +0.000000 i  +0.000000 +0.000000 i  +0.000000 +0.000000 i\n",
      "\n"
     ]
    },
    {
     "data": {
      "text/plain": [
       "['(0.656219 +0.000000 i) |0>', '(0.000000 -0.754571 i) |1>']"
      ]
     },
     "execution_count": 15,
     "metadata": {},
     "output_type": "execute_result"
    }
   ],
   "source": [
    "\n",
    "#make a state preparation circuit with an angle of 1.71 rads\n",
    "p1 = prep_circuit_maker(1.71)\n",
    "print(p1.str())\n",
    "\n",
    "#apply the state preperatio circuit to build the state\n",
    "wfn.apply_gate(p1)\n",
    "wfn.str()"
   ]
  },
  {
   "cell_type": "markdown",
   "metadata": {},
   "source": [
    "# Consider a hamiltonian as a single Z gate"
   ]
  },
  {
   "cell_type": "code",
   "execution_count": 16,
   "metadata": {},
   "outputs": [
    {
     "data": {
      "text/plain": [
       "['Z gate, target qubit:0, contol qubit:0\\n  +1.000000 +0.000000 i  +0.000000 +0.000000 i  +0.000000 +0.000000 i  +0.000000 +0.000000 i\\n  +0.000000 +0.000000 i  -1.000000 +0.000000 i  +0.000000 +0.000000 i  +0.000000 +0.000000 i\\n  +0.000000 +0.000000 i  +0.000000 +0.000000 i  +0.000000 +0.000000 i  +0.000000 +0.000000 i\\n  +0.000000 +0.000000 i  +0.000000 +0.000000 i  +0.000000 +0.000000 i  +0.000000 +0.000000 i\\n']"
      ]
     },
     "execution_count": 16,
     "metadata": {},
     "output_type": "execute_result"
    }
   ],
   "source": [
    "#make hamiltonian \n",
    "H = qforte.QuantumCircuit()\n",
    "z0 = qforte.make_gate('Z',0,0)\n",
    "H.add_gate(z0)\n",
    "H.str()"
   ]
  },
  {
   "cell_type": "markdown",
   "metadata": {},
   "source": [
    "# Make an array of anlges to plot the PES"
   ]
  },
  {
   "cell_type": "code",
   "execution_count": 17,
   "metadata": {},
   "outputs": [],
   "source": [
    "angle_range = numpy.linspace(0.0, 2 * numpy.pi, 20)\n",
    "exp_vals = [None]*len(angle_range)\n",
    "\n",
    "for k in range (len(angle_range)):\n",
    "    wfn1 = qforte.QuantumComputer(1)\n",
    "    #print(wfn1.str())\n",
    "    Rot = prep_circuit_maker(angle_range[k])\n",
    "    wfn1.apply_gate(Rot)\n",
    "    measurements = wfn1.measure_circuit(H,1000)\n",
    "    exp_vals[k] = exp_avg(measurements)\n",
    "    \n",
    "\n"
   ]
  },
  {
   "cell_type": "code",
   "execution_count": 18,
   "metadata": {},
   "outputs": [
    {
     "data": {
      "image/png": "[encoded data removed]",
      "text/plain": [
       "<Figure size 432x288 with 1 Axes>"
      ]
     },
     "metadata": {},
     "output_type": "display_data"
    }
   ],
   "source": [
    "import matplotlib.pyplot as plt\n",
    "plt.xlabel('Angle [radians]')\n",
    "plt.ylabel('Expectation value')\n",
    "plt.plot(angle_range, exp_vals)\n",
    "plt.show()"
   ]
  },
  {
   "cell_type": "code",
   "execution_count": 19,
   "metadata": {},
   "outputs": [],
   "source": [
    "# def Energy(Theta): \n",
    "#     wfn1 = qforte.QuantumComputer(1)\n",
    "#     #print(wfn1.str())\n",
    "#     Rot = prep_circuit_maker(Theta)\n",
    "#     wfn1.apply_gate(Rot)\n",
    "#     measurements = wfn1.measure_circuit(H,1000000)\n",
    "#     return exp_avg(measurements)\n",
    "    "
   ]
  },
  {
   "cell_type": "markdown",
   "metadata": {},
   "source": [
    "# Find param theta that minimizes energy"
   ]
  },
  {
   "cell_type": "code",
   "execution_count": 20,
   "metadata": {},
   "outputs": [
    {
     "name": "stdout",
     "output_type": "stream",
     "text": [
      "Optimization terminated successfully.\n",
      "         Current function value: -1.000000\n",
      "         Iterations: 36\n",
      "         Function evaluations: 89\n"
     ]
    }
   ],
   "source": [
    "res = minimize(Energy, [0.1], method='nelder-mead', options={'xtol': 1e-8, 'disp': True})"
   ]
  },
  {
   "cell_type": "code",
   "execution_count": null,
   "metadata": {},
   "outputs": [],
   "source": []
  },
  {
   "cell_type": "code",
   "execution_count": null,
   "metadata": {},
   "outputs": [],
   "source": []
  }
 ],
 "metadata": {
  "kernelspec": {
   "display_name": "Python 3",
   "language": "python",
   "name": "python3"
  },
  "language_info": {
   "codemirror_mode": {
    "name": "ipython",
    "version": 3
   },
   "file_extension": ".py",
   "mimetype": "text/x-python",
   "name": "python",
   "nbconvert_exporter": "python",
   "pygments_lexer": "ipython3",
   "version": "3.6.5"
  }
 },
 "nbformat": 4,
 "nbformat_minor": 2
}
