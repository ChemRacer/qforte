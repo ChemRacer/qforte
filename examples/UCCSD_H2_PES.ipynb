{
 "cells": [
  {
   "cell_type": "code",
   "execution_count": 19,
   "metadata": {},
   "outputs": [],
   "source": [
    "import numpy\n",
    "from numpy.random import randn\n",
    "from openfermion.transforms._jordan_wigner import *\n",
    "from openfermion.utils._trotter_exp_to_qgates import *\n",
    "from openfermion.utils import (commutator, count_qubits, expectation,\n",
    "                               hermitian_conjugated, normal_ordered,\n",
    "                               jordan_wigner_sparse, jw_hartree_fock_state,\n",
    "                               s_squared_operator, sz_operator)\n",
    "\n",
    "from openfermion.utils._unitary_cc import (uccsd_generator,\n",
    "                                           uccsd_singlet_generator,\n",
    "                                           uccsd_singlet_get_packed_amplitudes,\n",
    "                                           uccsd_singlet_paramsize)"
   ]
  },
  {
   "cell_type": "code",
   "execution_count": 20,
   "metadata": {},
   "outputs": [
    {
     "name": "stdout",
     "output_type": "stream",
     "text": [
      "singles\n",
      "[[-0.19992084  1.3381955  -0.1234956   0.43386799]\n",
      " [-0.45991283 -2.46321797 -0.49435012  0.9583078 ]\n",
      " [-1.44274522  0.43163465 -0.17552953  0.4422718 ]\n",
      " [-0.55636355  0.25648739  0.11961159  0.72163247]]\n",
      "doubles\n",
      "[[[[-0.99340849 -0.68462449  1.91862263  0.17224418]\n",
      "   [-0.3492247   0.62670574 -1.13493455  1.86862758]\n",
      "   [-1.92300519  0.96427505  0.42857066 -0.28424277]\n",
      "   [-0.94995434 -0.42379743  0.08141275  0.63185169]]\n",
      "\n",
      "  [[ 0.53666043  0.34688211  0.52462246  0.32191408]\n",
      "   [ 1.26981846  1.70967005 -0.21564462 -1.53190439]\n",
      "   [ 1.4014428   0.67728565 -0.38196287 -1.29301142]\n",
      "   [ 1.47104323  0.76537091  0.75015172 -1.48944859]]\n",
      "\n",
      "  [[ 0.14754847  0.28953432 -0.31853594 -1.61902258]\n",
      "   [-0.17146561 -0.94281612 -0.58385301  0.12149443]\n",
      "   [ 1.17132307 -1.01998173  0.61791703  0.21629542]\n",
      "   [-0.7751419  -0.44997536 -0.48457659 -0.97682984]]\n",
      "\n",
      "  [[-2.05786368 -1.20599999  0.51324244  0.53701288]\n",
      "   [-1.4678635   0.10822725 -0.20009113  0.37634511]\n",
      "   [-1.18179259 -0.2295822   1.45250793  1.20761406]\n",
      "   [-1.26754933 -0.2697643  -0.24794645 -1.24822708]]]\n",
      "\n",
      "\n",
      " [[[ 1.30801058  1.88152875 -1.13741709 -1.0472815 ]\n",
      "   [ 0.26466304  0.51517543 -0.9737641  -1.07319381]\n",
      "   [ 0.36953437  2.08389963 -1.57885232 -0.91781476]\n",
      "   [ 2.80461468 -0.30842574 -0.0722423   0.41891749]]\n",
      "\n",
      "  [[-1.02651659 -0.24811135 -0.35956681  0.24700252]\n",
      "   [ 0.34677817  0.39169731  1.06491285  0.45851342]\n",
      "   [-0.56621865 -0.96987908 -0.45355683 -0.12372072]\n",
      "   [-1.02132574 -0.57439176  1.05997302  0.99326376]]\n",
      "\n",
      "  [[-1.53134198  0.88950073  0.78590789 -0.62733384]\n",
      "   [-0.3039299  -1.22039725  0.84904323  0.1375017 ]\n",
      "   [-0.98329635 -1.16889648  0.54409559  0.73296432]\n",
      "   [-0.59129083 -1.12712676 -0.04678255 -0.33112905]]\n",
      "\n",
      "  [[ 1.61589882  0.87387284 -0.80852801 -1.0817753 ]\n",
      "   [-1.28312094 -0.24013386  1.11930402 -0.27702799]\n",
      "   [-0.92273122 -1.09755017  0.11284939  0.16506437]\n",
      "   [ 0.9093076  -1.62536178  0.11871209 -0.51544529]]]\n",
      "\n",
      "\n",
      " [[[ 0.56844694  0.78516743  1.77857145  0.3936475 ]\n",
      "   [-0.49017639 -0.21023774 -0.07104606  1.22924697]\n",
      "   [-1.66398997  2.22854061 -0.0195066  -0.33645826]\n",
      "   [-0.13536939  0.41897406  0.07820348 -0.02038547]]\n",
      "\n",
      "  [[-0.36341549  0.64342898  0.06829739  1.31145056]\n",
      "   [-1.49287602  0.05901541  0.24757074 -0.26040343]\n",
      "   [-0.11631833 -1.03499547 -0.47338997  0.40450451]\n",
      "   [-0.75572515 -1.17990222 -0.19903047  0.95173588]]\n",
      "\n",
      "  [[ 1.00858337  0.88347216 -0.1170225  -0.87188806]\n",
      "   [ 0.57712609 -0.88150627  1.99602215 -0.50986223]\n",
      "   [ 1.80886389  0.55254823  0.86637979  0.56227975]\n",
      "   [ 0.48833011 -0.50610408 -0.47818127 -0.49382386]]\n",
      "\n",
      "  [[-0.99622403  1.48159165 -0.6079974  -0.14541043]\n",
      "   [ 0.77514031  0.26395337 -1.72216181 -0.70565002]\n",
      "   [-0.27368838 -0.66637107  0.35975401  0.80342237]\n",
      "   [-0.11944626 -0.58294197 -0.94176749 -0.48914808]]]\n",
      "\n",
      "\n",
      " [[[ 0.22334121  1.88279311 -0.10574389  0.18811431]\n",
      "   [-0.940616    1.30201968 -0.91187008 -0.33727027]\n",
      "   [-0.4918358  -0.32706525 -0.20120407  0.42758054]\n",
      "   [-0.703626   -0.48618902 -1.03103547 -0.87871058]]\n",
      "\n",
      "  [[-0.14569955 -0.13336185  1.42040432 -0.48651807]\n",
      "   [-2.08799403  1.97364615  0.17547335 -1.30356403]\n",
      "   [ 0.65128243 -0.90609972 -0.85738463 -2.49622797]\n",
      "   [-0.84568655 -1.19488382  0.63984492  1.01232463]]\n",
      "\n",
      "  [[-0.8958598  -0.38110318  1.92190749 -0.88146516]\n",
      "   [ 0.58847554  0.89731353 -0.21891722 -0.48418456]\n",
      "   [-0.12694453 -0.32187229 -1.92057838  0.67446806]\n",
      "   [-0.79732909  1.37292958  1.284982   -1.60457825]]\n",
      "\n",
      "  [[ 0.6164789  -0.5413471  -1.63764149 -0.11376092]\n",
      "   [-0.97320243  0.40842199  1.71052378 -1.39005581]\n",
      "   [ 1.23831332  1.14758166 -0.05847984  1.44974837]\n",
      "   [ 1.04182415 -0.70897765  0.76355962 -0.37349439]]]]\n"
     ]
    }
   ],
   "source": [
    "test_orbitals = 4\n",
    "\n",
    "single_amplitudes = randn(*(test_orbitals,) * 2)\n",
    "double_amplitudes = randn(*(test_orbitals,) * 4)\n",
    "print('singles')\n",
    "print(single_amplitudes)\n",
    "print('doubles')\n",
    "print(double_amplitudes)"
   ]
  },
  {
   "cell_type": "code",
   "execution_count": 21,
   "metadata": {
    "scrolled": false
   },
   "outputs": [],
   "source": [
    "generator = uccsd_generator(single_amplitudes, double_amplitudes)\n",
    "qubit_op = jordan_wigner(generator)\n",
    "qubit_op *= 1.0j\n",
    "\n",
    "# print('openferion pre trotterized generator')\n",
    "# print(generator)\n",
    "# print('')\n",
    "# print(qubit_op)\n",
    "\n",
    "\n",
    "# for qubit_terms, coefficient in qubit_op.terms.items():\n",
    "#     print('')\n",
    "#     print(coefficient)\n",
    "#     for tensor_term in qubit_terms:\n",
    "#         print(tensor_term[1], tensor_term[0])\n"
   ]
  },
  {
   "cell_type": "code",
   "execution_count": 22,
   "metadata": {},
   "outputs": [],
   "source": [
    "from forestopenfermion.pyquil_connector import qubitop_to_pyquilpauli\n",
    "from openfermion.ops import QubitOperator\n"
   ]
  },
  {
   "cell_type": "code",
   "execution_count": 23,
   "metadata": {},
   "outputs": [],
   "source": [
    "pauli_sum_representation = qubitop_to_pyquilpauli(qubit_op)\n",
    "# print(pauli_sum_representation)"
   ]
  },
  {
   "cell_type": "code",
   "execution_count": 24,
   "metadata": {
    "scrolled": false
   },
   "outputs": [],
   "source": [
    "from pyquil.quil import Program\n",
    "from forestopenfermion import exponentiate\n",
    "from pyquil.gates import *\n",
    "\n",
    "pyquil_program = exponentiate(qubit_op)\n",
    "pyquil_program = Program(X(0), X(1), pyquil_program)\n",
    "# print(pyquil_program)\n",
    "# print(len(pyquil_program))"
   ]
  },
  {
   "cell_type": "markdown",
   "metadata": {},
   "source": [
    "# The correct answer"
   ]
  },
  {
   "cell_type": "code",
   "execution_count": 25,
   "metadata": {},
   "outputs": [
    {
     "name": "stdout",
     "output_type": "stream",
     "text": [
      "\n",
      "(-0.8809062611+0j)|0011> + (-0.1858962777+0j)|0101> + (0.033386433+0j)|0110> + (0.0826460827+0j)|1001> + (-0.0305403779+0j)|1010> + (-0.4249341002+0j)|1100>\n"
     ]
    }
   ],
   "source": [
    "from pyquil.api import WavefunctionSimulator\n",
    "from pyquil import Program\n",
    "\n",
    "\n",
    "print('')\n",
    "wfn = WavefunctionSimulator().wavefunction(pyquil_program)\n",
    "print(wfn)"
   ]
  },
  {
   "cell_type": "code",
   "execution_count": 26,
   "metadata": {},
   "outputs": [],
   "source": [
    "# ['(0.000000 +0.000000 i) |0000>',\n",
    "#  '(0.000000 +0.000000 i) |1000>',\n",
    "#  '(0.000000 -0.000000 i) |0100>',\n",
    "#  '(-0.555451 +0.000000 i) |1100>',\n",
    "#  '(0.000000 -0.000000 i) |0010>',\n",
    "#  '(-0.365344 +0.000000 i) |1010>',\n",
    "#  '(-0.619681 +0.000000 i) |0110>',\n",
    "#  '(0.000000 -0.000000 i) |1110>',\n",
    "#  '(0.000000 +0.000000 i) |0001>',\n",
    "#  '(0.055498 +0.000000 i) |1001>',\n",
    "#  '(0.159086 +0.000000 i) |0101>',\n",
    "#  '(0.000000 +0.000000 i) |1101>',\n",
    "#  '(-0.381582 +0.000000 i) |0011>',\n",
    "#  '(0.000000 -0.000000 i) |1011>',\n",
    "#  '(0.000000 +0.000000 i) |0111>',\n",
    "#  '(0.000000 +0.000000 i) |1111>']"
   ]
  },
  {
   "cell_type": "markdown",
   "metadata": {},
   "source": [
    "# Now begin importing trial circuit to Qforte"
   ]
  },
  {
   "cell_type": "code",
   "execution_count": 27,
   "metadata": {},
   "outputs": [],
   "source": [
    "import qforte"
   ]
  },
  {
   "cell_type": "code",
   "execution_count": 28,
   "metadata": {},
   "outputs": [],
   "source": [
    "#get from openferion\n",
    "qforte_generator = qforte.build_from_openfermion(qubit_op)\n",
    "#qforte.smart_print(qforte_generator)"
   ]
  },
  {
   "cell_type": "markdown",
   "metadata": {},
   "source": [
    "# Now try to exponentiate the full operator "
   ]
  },
  {
   "cell_type": "code",
   "execution_count": 29,
   "metadata": {
    "scrolled": false
   },
   "outputs": [],
   "source": [
    "expn_generator = qforte.trotterization.trotterize(qforte_generator)\n",
    "#qforte.smart_print(expn)\n",
    "#expn.str()"
   ]
  },
  {
   "cell_type": "code",
   "execution_count": 30,
   "metadata": {},
   "outputs": [],
   "source": [
    "# Set HF state\n",
    "qc2 = qforte.QuantumComputer(4)\n",
    "qc2.apply_gate(qforte.make_gate('X',0,0))\n",
    "qc2.apply_gate(qforte.make_gate('X',1,1))\n",
    "#qc2.str()"
   ]
  },
  {
   "cell_type": "code",
   "execution_count": 31,
   "metadata": {},
   "outputs": [
    {
     "data": {
      "text/plain": [
       "['(0.000000 +0.000000 i) |0000>',\n",
       " '(0.000000 -0.000000 i) |1000>',\n",
       " '(0.000000 +0.000000 i) |0100>',\n",
       " '(-0.880906 +0.000000 i) |1100>',\n",
       " '(0.000000 +0.000000 i) |0010>',\n",
       " '(-0.185896 +0.000000 i) |1010>',\n",
       " '(0.033386 +0.000000 i) |0110>',\n",
       " '(0.000000 +0.000000 i) |1110>',\n",
       " '(0.000000 -0.000000 i) |0001>',\n",
       " '(0.082646 +0.000000 i) |1001>',\n",
       " '(-0.030540 +0.000000 i) |0101>',\n",
       " '(0.000000 -0.000000 i) |1101>',\n",
       " '(-0.424934 +0.000000 i) |0011>',\n",
       " '(0.000000 -0.000000 i) |1011>',\n",
       " '(0.000000 -0.000000 i) |0111>',\n",
       " '(0.000000 +0.000000 i) |1111>']"
      ]
     },
     "execution_count": 31,
     "metadata": {},
     "output_type": "execute_result"
    }
   ],
   "source": [
    "qc2.apply_circuit(expn_generator)\n",
    "qc2.str()"
   ]
  },
  {
   "cell_type": "markdown",
   "metadata": {},
   "source": [
    "# Now set up for variational optemization via VQE"
   ]
  },
  {
   "cell_type": "code",
   "execution_count": 14,
   "metadata": {},
   "outputs": [],
   "source": [
    "# import to get hamiltonian from psi \n",
    "import unittest\n",
    "import qforte\n",
    "from openfermion.hamiltonians import MolecularData\n",
    "from openfermion.transforms import get_fermion_operator, jordan_wigner\n",
    "from openfermionpsi4 import run_psi4\n",
    "import numpy"
   ]
  },
  {
   "cell_type": "markdown",
   "metadata": {},
   "source": [
    "# Get data for H2"
   ]
  },
  {
   "cell_type": "code",
   "execution_count": 15,
   "metadata": {},
   "outputs": [],
   "source": [
    "# Set molecule parameters.\n",
    "basis = 'sto-3g'\n",
    "multiplicity = 1\n",
    "bond_length_interval = 0.2\n",
    "n_points = 8\n",
    "\n",
    "# Set calculation parameters.\n",
    "run_scf = 1\n",
    "run_mp2 = 0\n",
    "run_cisd = 0\n",
    "run_ccsd = 1\n",
    "run_fci = 1\n",
    "delete_input = True\n",
    "delete_output = True\n",
    "\n",
    "# Generate molecule at different bond lengths.\n",
    "hf_energies = []\n",
    "ccsd_energies = []\n",
    "fci_energies = []\n",
    "qforte_hamiltonians = [None]*n_points\n",
    "bond_lengths = []\n",
    "for point in range(1, n_points + 1):\n",
    "    bond_length = bond_length_interval * float(point)\n",
    "    bond_lengths += [bond_length]\n",
    "    geometry = [('H', (0., 0., 0.)), ('H', (0., 0., bond_length))]\n",
    "    molecule = MolecularData(\n",
    "        geometry, basis, multiplicity,\n",
    "        description=str(round(bond_length, 2)))\n",
    "    \n",
    "    # Run Psi4.\n",
    "    molecule = run_psi4(molecule,\n",
    "                        run_scf=run_scf,\n",
    "                        run_mp2=run_mp2,\n",
    "                        run_cisd=run_cisd,\n",
    "                        run_ccsd=run_ccsd,\n",
    "                        run_fci=run_fci)\n",
    "    \n",
    "    #make energy array\n",
    "    hf_energies += [molecule.hf_energy]\n",
    "    ccsd_energies += [molecule.ccsd_energy]\n",
    "    fci_energies += [molecule.fci_energy]\n",
    "    \n",
    "    #populate data and integrals\n",
    "    molecule.load()\n",
    "\n",
    "    # Get the Hamiltonian in an active space.\n",
    "    active_space_start = 0\n",
    "    active_space_stop = 2\n",
    "\n",
    "    molecular_hamiltonian = molecule.get_molecular_hamiltonian(\n",
    "        occupied_indices=range(active_space_start),\n",
    "        active_indices=range(active_space_start, active_space_stop))\n",
    "\n",
    "    # Map operator to fermions and qubits.\n",
    "    fermion_hamiltonian = get_fermion_operator(molecular_hamiltonian)\n",
    "    qubit_hamiltonian = jordan_wigner(fermion_hamiltonian)\n",
    "    #qubit_hamiltonian.compress()\n",
    "    # print('The Jordan-Wigner Molecular Hamiltonian in canonical basis:\\n{}'.format(qubit_hamiltonian))\n",
    "\n",
    "    # print('\\nBuild Qforte Hamiltonian and generator to calculate the expectation value')\n",
    "    qforte_hamiltonians[point-1] = qforte.build_from_openfermion(qubit_hamiltonian)\n",
    "    # print('\\nThe Molecular Hamiltonian in canonical basis:')\n",
    "    # qforte.smart_print(qforte_hamiltonian)\n",
    "    \n",
    "#     print('Hartree-Fock energy of {} Hartree.'.format(molecule.hf_energy))\n",
    "#     print('Hartree-Fock energy of {} Hartree.'.format(molecule.ccsd_energy))\n",
    "#     print('Hartree-Fock energy of {} Hartree.'.format(molecule.fci_energy))"
   ]
  },
  {
   "cell_type": "markdown",
   "metadata": {},
   "source": [
    "# Set up VQE object"
   ]
  },
  {
   "cell_type": "code",
   "execution_count": 16,
   "metadata": {},
   "outputs": [
    {
     "name": "stdout",
     "output_type": "stream",
     "text": [
      "44\n",
      "Warning: Maximum number of function evaluations has been exceeded.\n",
      "\n",
      "vals\n",
      "0.15748213365503538\n",
      "2.1578410046817087\n",
      "0.1641750109193325\n",
      "2.1167713291681562\n",
      "0.15748213366406702\n",
      "0\n",
      "Warning: Maximum number of function evaluations has been exceeded.\n",
      "\n",
      "vals\n",
      "-0.9141497050119485\n",
      "0.5152960735034151\n",
      "-0.9043613945444622\n",
      "0.5231472307646455\n",
      "-0.91414970488679\n",
      "0\n",
      "Warning: Maximum number of function evaluations has been exceeded.\n",
      "\n",
      "vals\n",
      "-1.1162860069722234\n",
      "-0.11681522830936918\n",
      "-1.1011282423609585\n",
      "-0.12227681652754684\n",
      "-1.1162860069744933\n",
      "0\n",
      "Warning: Maximum number of function evaluations has been exceeded.\n",
      "\n",
      "vals\n",
      "-1.134147666642846\n",
      "-0.4404936183848433\n",
      "-1.1108503974239035\n",
      "-0.4457001493632437\n",
      "-1.134147666715479\n",
      "0\n",
      "Warning: Maximum number of function evaluations has been exceeded.\n",
      "\n",
      "vals\n",
      "-1.1011503301329562\n",
      "-0.6233647348581463\n",
      "-1.0661086491853147\n",
      "-0.6172487144418919\n",
      "-1.1011503317008027\n",
      "0\n",
      "Warning: Maximum number of function evaluations has been exceeded.\n",
      "\n",
      "vals\n",
      "-1.0567407461794298\n",
      "-0.7198115255890274\n",
      "-1.005106706387666\n",
      "-0.716616330467959\n",
      "-1.0567407459635745\n",
      "0\n",
      "Warning: Maximum number of function evaluations has been exceeded.\n",
      "\n",
      "vals\n",
      "-1.0154682491653264\n",
      "-0.7815954731100124\n",
      "-0.9414806545013791\n",
      "-0.7859755504491944\n",
      "-1.0154682452064738\n",
      "0\n",
      "Warning: Maximum number of function evaluations has been exceeded.\n",
      "\n",
      "vals\n",
      "-0.9834727289323327\n",
      "-0.8148786443995532\n",
      "-0.8817324497321232\n",
      "-0.8121776208366976\n",
      "-0.9834727297224256\n"
     ]
    }
   ],
   "source": [
    "uccsd_energies = [0.0]*n_points\n",
    "for i in range(n_points):\n",
    "    myVQE = qforte.VQE(4, 2, expn_generator, qforte_hamiltonians[i], 10000)\n",
    "    \n",
    "    Exper2 = qforte.Experiment(4, 2, expn_generator, qforte_hamiltonians[i], 10000)\n",
    "    params2 = [0.0] * 44 \n",
    "    \n",
    "    \n",
    "    optemized = myVQE.do_vqe()\n",
    "    uccsd_energies[i] = optemized.fun\n",
    "\n",
    "    print('')\n",
    "    print('vals')\n",
    "\n",
    "    print(fci_energies[i])\n",
    "    print(Exper2.experimental_avg(params2))\n",
    "    print(hf_energies[i])\n",
    "    print(optemized.fun)\n",
    "    print(ccsd_energies[i])\n",
    "    "
   ]
  },
  {
   "cell_type": "code",
   "execution_count": 17,
   "metadata": {},
   "outputs": [
    {
     "name": "stdout",
     "output_type": "stream",
     "text": [
      "[2.1167713291681562, 0.5231472307646455, -0.12227681652754684, -0.4457001493632437, -0.6172487144418919, -0.716616330467959, -0.7859755504491944, -0.8121776208366976]\n",
      "-0.8121776208366976\n"
     ]
    }
   ],
   "source": [
    "print(uccsd_energies)\n",
    "print(optemized.fun)"
   ]
  },
  {
   "cell_type": "code",
   "execution_count": 18,
   "metadata": {},
   "outputs": [
    {
     "data": {
      "image/png": "[encoded data removed]",
      "text/plain": [
       "<Figure size 432x288 with 1 Axes>"
      ]
     },
     "metadata": {},
     "output_type": "display_data"
    }
   ],
   "source": [
    "# Plot.\n",
    "import matplotlib.pyplot as plt\n",
    "%matplotlib inline\n",
    "\n",
    "plt.figure(0)\n",
    "# plt.plot(bond_lengths, fci_energies, 'x-')\n",
    "plt.plot(bond_lengths, hf_energies, 'o-')\n",
    "# plt.plot(bond_lengths, ccsd_energies, 'd-')\n",
    "plt.plot(bond_lengths, uccsd_energies, 's-')\n",
    "plt.ylabel('Energy in Hartree')\n",
    "plt.xlabel('Bond length in angstrom')\n",
    "plt.show()"
   ]
  }
 ],
 "metadata": {
  "kernelspec": {
   "display_name": "Python 3",
   "language": "python",
   "name": "python3"
  },
  "language_info": {
   "codemirror_mode": {
    "name": "ipython",
    "version": 3
   },
   "file_extension": ".py",
   "mimetype": "text/x-python",
   "name": "python",
   "nbconvert_exporter": "python",
   "pygments_lexer": "ipython3",
   "version": "3.6.7"
  }
 },
 "nbformat": 4,
 "nbformat_minor": 2
}
