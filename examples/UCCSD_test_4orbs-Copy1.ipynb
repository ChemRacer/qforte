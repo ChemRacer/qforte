{
 "cells": [
  {
   "cell_type": "code",
   "execution_count": 1,
   "metadata": {},
   "outputs": [],
   "source": [
    "import numpy\n",
    "from numpy.random import randn\n",
    "\n",
    "from openfermion.transforms._jordan_wigner import *\n",
    "\n",
    "from openfermion.utils._trotter_exp_to_qgates import *\n",
    "\n",
    "from openfermion.utils import (commutator, count_qubits, expectation,\n",
    "                               hermitian_conjugated, normal_ordered,\n",
    "                               jordan_wigner_sparse, jw_hartree_fock_state,\n",
    "                               s_squared_operator, sz_operator)\n",
    "\n",
    "from openfermion.utils._unitary_cc import (uccsd_generator,\n",
    "                                           uccsd_singlet_generator,\n",
    "                                           uccsd_singlet_get_packed_amplitudes,\n",
    "                                           uccsd_singlet_paramsize)\n",
    "\n",
    "from forestopenfermion.pyquil_connector import qubitop_to_pyquilpauli\n",
    "from openfermion.ops import QubitOperator\n",
    "\n",
    "from pyquil.quil import Program\n",
    "from forestopenfermion import exponentiate\n",
    "from pyquil.gates import *\n",
    "\n",
    "from pyquil.api import WavefunctionSimulator\n",
    "from pyquil import Program\n",
    "\n",
    "# import to get hamiltonian from psi \n",
    "import unittest\n",
    "import qforte\n",
    "from openfermion.hamiltonians import MolecularData\n",
    "from openfermion.transforms import get_fermion_operator, jordan_wigner\n",
    "from openfermionpsi4 import run_psi4\n",
    "\n",
    "import qforte"
   ]
  },
  {
   "cell_type": "markdown",
   "metadata": {},
   "source": [
    "# Create compact amplitudes list for singlet UCCSD"
   ]
  },
  {
   "cell_type": "code",
   "execution_count": 2,
   "metadata": {},
   "outputs": [
    {
     "name": "stdout",
     "output_type": "stream",
     "text": [
      "singles\n",
      "[0.0, 0.0]\n"
     ]
    }
   ],
   "source": [
    "test_orbitals = 4\n",
    "test_electrons = 2\n",
    "\n",
    "# single_amplitudes = randn(*(test_orbitals,) * 2)\n",
    "# double_amplitudes = randn(*(test_orbitals,) * 4)\n",
    "\n",
    "sparse_single_amplitudes = numpy.zeros((test_orbitals, test_orbitals))\n",
    "sparse_double_amplitudes = numpy.zeros((test_orbitals, test_orbitals,\n",
    "                                        test_orbitals, test_orbitals))\n",
    "\n",
    "packed_amplitudes = uccsd_singlet_get_packed_amplitudes(\n",
    "            sparse_single_amplitudes, sparse_double_amplitudes,\n",
    "            test_orbitals, test_electrons)\n",
    "\n",
    "print('singles')\n",
    "print(packed_amplitudes)\n",
    "\n"
   ]
  },
  {
   "cell_type": "markdown",
   "metadata": {},
   "source": [
    "# Run Psi to generate data for H2"
   ]
  },
  {
   "cell_type": "code",
   "execution_count": 3,
   "metadata": {},
   "outputs": [],
   "source": [
    "# Set calculation parameters.\n",
    "run_scf = 1\n",
    "run_mp2 = 0\n",
    "run_cisd = 0\n",
    "run_ccsd = 1\n",
    "run_fci = 1\n",
    "bond_length = 0.7414\n",
    "\n",
    "geometry = [('H', (0., 0., 0.)), ('H', (0., 0., bond_length))]\n",
    "basis = 'sto-3g'\n",
    "multiplicity = 1\n",
    "\n",
    "molecule = MolecularData(\n",
    "        geometry, basis, multiplicity,\n",
    "        description=str(round(bond_length, 2)))\n",
    "\n",
    "# Run Psi4.\n",
    "molecule = run_psi4(molecule,\n",
    "                    run_scf=run_scf,\n",
    "                    run_mp2=run_mp2,\n",
    "                    run_cisd=run_cisd,\n",
    "                    run_ccsd=run_ccsd,\n",
    "                    run_fci=run_fci)\n",
    "\n",
    "molecule.load()\n",
    "\n",
    "# Get molecular Hamiltonian.\n",
    "molecular_hamiltonian = molecule.get_molecular_hamiltonian()\n",
    "\n",
    "# Get explicit coefficients.\n",
    "nuclear_repulsion = molecular_hamiltonian.constant\n",
    "one_body = molecular_hamiltonian.one_body_tensor\n",
    "two_body = molecular_hamiltonian.two_body_tensor\n",
    "\n",
    "# Get fermion Hamiltonian.\n",
    "fermion_hamiltonian = normal_ordered(get_fermion_operator(\n",
    "    molecular_hamiltonian))\n",
    "\n",
    "# Get qubit Hamiltonian.\n",
    "qubit_hamiltonian = jordan_wigner(fermion_hamiltonian)\n",
    "\n",
    "# Test UCCSD for accuracy against FCI using loaded t amplitudes.\n",
    "ucc_operator = uccsd_generator(\n",
    "    molecule.ccsd_single_amps,\n",
    "    molecule.ccsd_double_amps)\n",
    "\n",
    "ucc_singlet_operator = uccsd_singlet_get_packed_amplitudes(\n",
    "    molecule.ccsd_single_amps,\n",
    "    molecule.ccsd_double_amps, test_orbitals, test_electrons)"
   ]
  },
  {
   "cell_type": "code",
   "execution_count": 23,
   "metadata": {},
   "outputs": [
    {
     "name": "stdout",
     "output_type": "stream",
     "text": [
      "(-0.09886396978427399+0j) [] +\n",
      "(-0.045322202057777684+0j) [X0 X1 Y2 Y3] +\n",
      "(0.045322202057777684+0j) [X0 Y1 Y2 X3] +\n",
      "(0.045322202057777684+0j) [Y0 X1 X2 Y3] +\n",
      "(-0.045322202057777684+0j) [Y0 Y1 X2 X3] +\n",
      "(0.1711977489805748+0j) [Z0] +\n",
      "(0.16862219157249936+0j) [Z0 Z1] +\n",
      "(0.1205448220329002+0j) [Z0 Z2] +\n",
      "(0.16586702409067788+0j) [Z0 Z3] +\n",
      "(0.17119774898057483+0j) [Z1] +\n",
      "(0.16586702409067788+0j) [Z1 Z2] +\n",
      "(0.1205448220329002+0j) [Z1 Z3] +\n",
      "(-0.22278593024287585+0j) [Z2] +\n",
      "(0.17434844183963868+0j) [Z2 Z3] +\n",
      "(-0.22278593024287585+0j) [Z3]\n"
     ]
    }
   ],
   "source": [
    "print(qubit_hamiltonian)"
   ]
  },
  {
   "cell_type": "code",
   "execution_count": 22,
   "metadata": {},
   "outputs": [
    {
     "name": "stdout",
     "output_type": "stream",
     "text": [
      "[[0. 0. 0. 0.]\n",
      " [0. 0. 0. 0.]\n",
      " [0. 0. 0. 0.]\n",
      " [0. 0. 0. 0.]]\n",
      "[[[[ 0.          0.          0.          0.        ]\n",
      "   [ 0.          0.          0.          0.        ]\n",
      "   [ 0.          0.          0.          0.        ]\n",
      "   [ 0.          0.          0.          0.        ]]\n",
      "\n",
      "  [[ 0.          0.          0.          0.        ]\n",
      "   [ 0.          0.          0.          0.        ]\n",
      "   [ 0.          0.          0.          0.        ]\n",
      "   [ 0.          0.          0.          0.        ]]\n",
      "\n",
      "  [[ 0.          0.          0.          0.        ]\n",
      "   [ 0.          0.          0.          0.        ]\n",
      "   [ 0.          0.          0.          0.        ]\n",
      "   [ 0.          0.          0.          0.        ]]\n",
      "\n",
      "  [[ 0.          0.          0.          0.        ]\n",
      "   [ 0.          0.          0.          0.        ]\n",
      "   [ 0.          0.          0.          0.        ]\n",
      "   [ 0.          0.          0.          0.        ]]]\n",
      "\n",
      "\n",
      " [[[ 0.          0.          0.          0.        ]\n",
      "   [ 0.          0.          0.          0.        ]\n",
      "   [ 0.          0.          0.          0.        ]\n",
      "   [ 0.          0.          0.          0.        ]]\n",
      "\n",
      "  [[ 0.          0.          0.          0.        ]\n",
      "   [ 0.          0.          0.          0.        ]\n",
      "   [ 0.          0.          0.          0.        ]\n",
      "   [ 0.          0.          0.          0.        ]]\n",
      "\n",
      "  [[ 0.          0.          0.          0.        ]\n",
      "   [ 0.          0.          0.          0.        ]\n",
      "   [ 0.          0.          0.          0.        ]\n",
      "   [ 0.          0.          0.          0.        ]]\n",
      "\n",
      "  [[ 0.          0.          0.          0.        ]\n",
      "   [ 0.          0.          0.          0.        ]\n",
      "   [ 0.          0.          0.          0.        ]\n",
      "   [ 0.          0.          0.          0.        ]]]\n",
      "\n",
      "\n",
      " [[[ 0.          0.          0.          0.        ]\n",
      "   [ 0.          0.          0.          0.        ]\n",
      "   [ 0.          0.          0.          0.        ]\n",
      "   [ 0.         -0.05677622  0.          0.        ]]\n",
      "\n",
      "  [[ 0.          0.          0.          0.        ]\n",
      "   [ 0.          0.          0.          0.        ]\n",
      "   [ 0.          0.          0.          0.        ]\n",
      "   [ 0.          0.          0.          0.        ]]\n",
      "\n",
      "  [[ 0.          0.          0.          0.        ]\n",
      "   [ 0.          0.          0.          0.        ]\n",
      "   [ 0.          0.          0.          0.        ]\n",
      "   [ 0.          0.          0.          0.        ]]\n",
      "\n",
      "  [[ 0.          0.          0.          0.        ]\n",
      "   [ 0.          0.          0.          0.        ]\n",
      "   [ 0.          0.          0.          0.        ]\n",
      "   [ 0.          0.          0.          0.        ]]]\n",
      "\n",
      "\n",
      " [[[ 0.          0.          0.          0.        ]\n",
      "   [ 0.          0.          0.          0.        ]\n",
      "   [ 0.          0.          0.          0.        ]\n",
      "   [ 0.          0.          0.          0.        ]]\n",
      "\n",
      "  [[ 0.          0.          0.          0.        ]\n",
      "   [ 0.          0.          0.          0.        ]\n",
      "   [-0.05677622  0.          0.          0.        ]\n",
      "   [ 0.          0.          0.          0.        ]]\n",
      "\n",
      "  [[ 0.          0.          0.          0.        ]\n",
      "   [ 0.          0.          0.          0.        ]\n",
      "   [ 0.          0.          0.          0.        ]\n",
      "   [ 0.          0.          0.          0.        ]]\n",
      "\n",
      "  [[ 0.          0.          0.          0.        ]\n",
      "   [ 0.          0.          0.          0.        ]\n",
      "   [ 0.          0.          0.          0.        ]\n",
      "   [ 0.          0.          0.          0.        ]]]]\n"
     ]
    }
   ],
   "source": [
    "print(molecule.ccsd_single_amps)\n",
    "print(molecule.ccsd_double_amps)\n"
   ]
  },
  {
   "cell_type": "markdown",
   "metadata": {},
   "source": [
    "# Print ucc_operator and ucc_compressed_singlet_op"
   ]
  },
  {
   "cell_type": "code",
   "execution_count": 4,
   "metadata": {},
   "outputs": [
    {
     "name": "stdout",
     "output_type": "stream",
     "text": [
      "ucc_op\n",
      "0.05677622305 [0^ 2 1^ 3] +\n",
      "0.05677622305 [1^ 3 0^ 2] +\n",
      "-0.05677622305 [2^ 0 3^ 1] +\n",
      "-0.05677622305 [3^ 1 2^ 0]\n",
      "\n",
      "ucc_singlet_op\n",
      "[0.0, -0.05677622305]\n"
     ]
    }
   ],
   "source": [
    "print('ucc_op')\n",
    "print(ucc_operator)\n",
    "print('')\n",
    "print('ucc_singlet_op')\n",
    "print(ucc_singlet_operator)"
   ]
  },
  {
   "cell_type": "code",
   "execution_count": 5,
   "metadata": {
    "scrolled": false
   },
   "outputs": [
    {
     "name": "stdout",
     "output_type": "stream",
     "text": [
      "qubit ucc operator\n",
      "(-0.0141940557625+0j) [X0 X1 X2 Y3] +\n",
      "(-0.0141940557625+0j) [X0 X1 Y2 X3] +\n",
      "(0.0141940557625+0j) [X0 Y1 X2 X3] +\n",
      "(-0.0141940557625+0j) [X0 Y1 Y2 Y3] +\n",
      "(0.0141940557625+0j) [Y0 X1 X2 X3] +\n",
      "(-0.0141940557625+0j) [Y0 X1 Y2 Y3] +\n",
      "(0.0141940557625+0j) [Y0 Y1 X2 Y3] +\n",
      "(0.0141940557625+0j) [Y0 Y1 Y2 X3]\n",
      "\n",
      "(0.0141940557625+0j)\n",
      "Y 0\n",
      "Y 1\n",
      "Y 2\n",
      "X 3\n",
      "\n",
      "(-0.0141940557625+0j)\n",
      "Y 0\n",
      "X 1\n",
      "Y 2\n",
      "Y 3\n",
      "\n",
      "(-0.0141940557625+0j)\n",
      "X 0\n",
      "X 1\n",
      "Y 2\n",
      "X 3\n",
      "\n",
      "(-0.0141940557625+0j)\n",
      "X 0\n",
      "Y 1\n",
      "Y 2\n",
      "Y 3\n",
      "\n",
      "(0.0141940557625+0j)\n",
      "Y 0\n",
      "X 1\n",
      "X 2\n",
      "X 3\n",
      "\n",
      "(0.0141940557625+0j)\n",
      "Y 0\n",
      "Y 1\n",
      "X 2\n",
      "Y 3\n",
      "\n",
      "(0.0141940557625+0j)\n",
      "X 0\n",
      "Y 1\n",
      "X 2\n",
      "X 3\n",
      "\n",
      "(-0.0141940557625+0j)\n",
      "X 0\n",
      "X 1\n",
      "X 2\n",
      "Y 3\n"
     ]
    }
   ],
   "source": [
    "qubit_op = jordan_wigner(ucc_operator)\n",
    "# singlet_qubit_op = jordan_wigner(ucc_singlet_operator)\n",
    "qubit_op *= 1.0j\n",
    "\n",
    "\n",
    "print('qubit ucc operator')\n",
    "print(qubit_op)\n",
    "\n",
    "\n",
    "for qubit_terms, coefficient in qubit_op.terms.items():\n",
    "    print('')\n",
    "    print(coefficient)\n",
    "    for tensor_term in qubit_terms:\n",
    "        print(tensor_term[1], tensor_term[0])\n"
   ]
  },
  {
   "cell_type": "code",
   "execution_count": 6,
   "metadata": {},
   "outputs": [],
   "source": [
    "# from forestopenfermion.pyquil_connector import qubitop_to_pyquilpauli\n",
    "# from openfermion.ops import QubitOperator\n"
   ]
  },
  {
   "cell_type": "code",
   "execution_count": 7,
   "metadata": {},
   "outputs": [
    {
     "name": "stdout",
     "output_type": "stream",
     "text": [
      "(0.0141940557625+0j)*Y0*Y1*Y2*X3 + (-0.0141940557625+0j)*Y0*X1*Y2*Y3 + (-0.0141940557625+0j)*X0*X1*Y2*X3 + (-0.0141940557625+0j)*X0*Y1*Y2*Y3 + (0.0141940557625+0j)*Y0*X1*X2*X3 + (0.0141940557625+0j)*Y0*Y1*X2*Y3 + (0.0141940557625+0j)*X0*Y1*X2*X3 + (-0.0141940557625+0j)*X0*X1*X2*Y3\n"
     ]
    }
   ],
   "source": [
    "pauli_sum_representation = qubitop_to_pyquilpauli(qubit_op)\n",
    "print(pauli_sum_representation)"
   ]
  },
  {
   "cell_type": "code",
   "execution_count": 8,
   "metadata": {
    "scrolled": false
   },
   "outputs": [
    {
     "name": "stdout",
     "output_type": "stream",
     "text": [
      "X 0\n",
      "X 1\n",
      "RX(pi/2) 0\n",
      "RX(pi/2) 1\n",
      "RX(pi/2) 2\n",
      "H 3\n",
      "CNOT 0 1\n",
      "CNOT 1 2\n",
      "CNOT 2 3\n",
      "RZ(0.028388111525) 3\n",
      "CNOT 2 3\n",
      "CNOT 1 2\n",
      "CNOT 0 1\n",
      "RX(-pi/2) 0\n",
      "RX(-pi/2) 1\n",
      "RX(-pi/2) 2\n",
      "H 3\n",
      "RX(pi/2) 0\n",
      "H 1\n",
      "RX(pi/2) 2\n",
      "RX(pi/2) 3\n",
      "CNOT 0 1\n",
      "CNOT 1 2\n",
      "CNOT 2 3\n",
      "RZ(-0.028388111525) 3\n",
      "CNOT 2 3\n",
      "CNOT 1 2\n",
      "CNOT 0 1\n",
      "RX(-pi/2) 0\n",
      "H 1\n",
      "RX(-pi/2) 2\n",
      "RX(-pi/2) 3\n",
      "H 0\n",
      "H 1\n",
      "RX(pi/2) 2\n",
      "H 3\n",
      "CNOT 0 1\n",
      "CNOT 1 2\n",
      "CNOT 2 3\n",
      "RZ(-0.028388111525) 3\n",
      "CNOT 2 3\n",
      "CNOT 1 2\n",
      "CNOT 0 1\n",
      "H 0\n",
      "H 1\n",
      "RX(-pi/2) 2\n",
      "H 3\n",
      "H 0\n",
      "RX(pi/2) 1\n",
      "RX(pi/2) 2\n",
      "RX(pi/2) 3\n",
      "CNOT 0 1\n",
      "CNOT 1 2\n",
      "CNOT 2 3\n",
      "RZ(-0.028388111525) 3\n",
      "CNOT 2 3\n",
      "CNOT 1 2\n",
      "CNOT 0 1\n",
      "H 0\n",
      "RX(-pi/2) 1\n",
      "RX(-pi/2) 2\n",
      "RX(-pi/2) 3\n",
      "RX(pi/2) 0\n",
      "H 1\n",
      "H 2\n",
      "H 3\n",
      "CNOT 0 1\n",
      "CNOT 1 2\n",
      "CNOT 2 3\n",
      "RZ(0.028388111525) 3\n",
      "CNOT 2 3\n",
      "CNOT 1 2\n",
      "CNOT 0 1\n",
      "RX(-pi/2) 0\n",
      "H 1\n",
      "H 2\n",
      "H 3\n",
      "RX(pi/2) 0\n",
      "RX(pi/2) 1\n",
      "H 2\n",
      "RX(pi/2) 3\n",
      "CNOT 0 1\n",
      "CNOT 1 2\n",
      "CNOT 2 3\n",
      "RZ(0.028388111525) 3\n",
      "CNOT 2 3\n",
      "CNOT 1 2\n",
      "CNOT 0 1\n",
      "RX(-pi/2) 0\n",
      "RX(-pi/2) 1\n",
      "H 2\n",
      "RX(-pi/2) 3\n",
      "H 0\n",
      "RX(pi/2) 1\n",
      "H 2\n",
      "H 3\n",
      "CNOT 0 1\n",
      "CNOT 1 2\n",
      "CNOT 2 3\n",
      "RZ(0.028388111525) 3\n",
      "CNOT 2 3\n",
      "CNOT 1 2\n",
      "CNOT 0 1\n",
      "H 0\n",
      "RX(-pi/2) 1\n",
      "H 2\n",
      "H 3\n",
      "H 0\n",
      "H 1\n",
      "H 2\n",
      "RX(pi/2) 3\n",
      "CNOT 0 1\n",
      "CNOT 1 2\n",
      "CNOT 2 3\n",
      "RZ(-0.028388111525) 3\n",
      "CNOT 2 3\n",
      "CNOT 1 2\n",
      "CNOT 0 1\n",
      "H 0\n",
      "H 1\n",
      "H 2\n",
      "RX(-pi/2) 3\n",
      "\n",
      "122\n"
     ]
    }
   ],
   "source": [
    "# from pyquil.quil import Program\n",
    "# from forestopenfermion import exponentiate\n",
    "# from pyquil.gates import *\n",
    "\n",
    "pyquil_program = exponentiate(qubit_op)\n",
    "pyquil_program = Program(X(0), X(1), pyquil_program)\n",
    "print(pyquil_program)\n",
    "print(len(pyquil_program))"
   ]
  },
  {
   "cell_type": "markdown",
   "metadata": {},
   "source": [
    "# The correct answer"
   ]
  },
  {
   "cell_type": "code",
   "execution_count": 9,
   "metadata": {},
   "outputs": [
    {
     "name": "stdout",
     "output_type": "stream",
     "text": [
      "\n",
      "(0.9935598455+0j)|0011> + (-0.1133085762+0j)|1100>\n"
     ]
    }
   ],
   "source": [
    "from pyquil.api import WavefunctionSimulator\n",
    "from pyquil import Program\n",
    "\n",
    "print('')\n",
    "wfn = WavefunctionSimulator().wavefunction(pyquil_program)\n",
    "print(wfn)"
   ]
  },
  {
   "cell_type": "code",
   "execution_count": null,
   "metadata": {},
   "outputs": [],
   "source": []
  },
  {
   "cell_type": "markdown",
   "metadata": {},
   "source": [
    "# Now begin importing trial circuit to Qforte"
   ]
  },
  {
   "cell_type": "code",
   "execution_count": 10,
   "metadata": {},
   "outputs": [],
   "source": [
    "import qforte"
   ]
  },
  {
   "cell_type": "code",
   "execution_count": 11,
   "metadata": {},
   "outputs": [
    {
     "name": "stdout",
     "output_type": "stream",
     "text": [
      "\n",
      " Quantum operator:\n",
      "(0.0141940557625+0j)[Y0 Y1 Y2 X3]\n",
      "+ (-0.0141940557625+0j)[Y0 X1 Y2 Y3]\n",
      "+ (-0.0141940557625+0j)[X0 X1 Y2 X3]\n",
      "+ (-0.0141940557625+0j)[X0 Y1 Y2 Y3]\n",
      "+ (0.0141940557625+0j)[Y0 X1 X2 X3]\n",
      "+ (0.0141940557625+0j)[Y0 Y1 X2 Y3]\n",
      "+ (0.0141940557625+0j)[X0 Y1 X2 X3]\n",
      "+ (-0.0141940557625+0j)[X0 X1 X2 Y3]\n"
     ]
    }
   ],
   "source": [
    "#get from openferion\n",
    "qforte_generator = qforte.build_from_openfermion(qubit_op)\n",
    "qforte.smart_print(qforte_generator)"
   ]
  },
  {
   "cell_type": "markdown",
   "metadata": {},
   "source": [
    "# Now try to exponentiate the full operator "
   ]
  },
  {
   "cell_type": "code",
   "execution_count": 12,
   "metadata": {
    "scrolled": false
   },
   "outputs": [
    {
     "name": "stdout",
     "output_type": "stream",
     "text": [
      "\n",
      " Quantum circuit:\n",
      "[Rx0  Rx1  Rx2  H3  cX1-0  cX2-1  cX3-2  Rz3  cX3-2  cX2-1  cX1-0  Rx0  Rx1  Rx2  H3  Rx0  H1  Rx2  Rx3  cX1-0  cX2-1  cX3-2  Rz3  cX3-2  cX2-1  cX1-0  Rx0  H1  Rx2  Rx3  H0  H1  Rx2  H3  cX1-0  cX2-1  cX3-2  Rz3  cX3-2  cX2-1  cX1-0  H0  H1  Rx2  H3  H0  Rx1  Rx2  Rx3  cX1-0  cX2-1  cX3-2  Rz3  cX3-2  cX2-1  cX1-0  H0  Rx1  Rx2  Rx3  Rx0  H1  H2  H3  cX1-0  cX2-1  cX3-2  Rz3  cX3-2  cX2-1  cX1-0  Rx0  H1  H2  H3  Rx0  Rx1  H2  Rx3  cX1-0  cX2-1  cX3-2  Rz3  cX3-2  cX2-1  cX1-0  Rx0  Rx1  H2  Rx3  H0  Rx1  H2  H3  cX1-0  cX2-1  cX3-2  Rz3  cX3-2  cX2-1  cX1-0  H0  Rx1  H2  H3  H0  H1  H2  Rx3  cX1-0  cX2-1  cX3-2  Rz3  cX3-2  cX2-1  cX1-0  H0  H1  H2  Rx3]\n"
     ]
    }
   ],
   "source": [
    "expn_generator = qforte.trotterization.trotterize(qforte_generator)\n",
    "qforte.smart_print(expn_generator)\n"
   ]
  },
  {
   "cell_type": "code",
   "execution_count": 13,
   "metadata": {},
   "outputs": [],
   "source": [
    "# Set HF state\n",
    "qc2 = qforte.QuantumComputer(4)\n",
    "qc2.apply_gate(qforte.make_gate('X',0,0))\n",
    "qc2.apply_gate(qforte.make_gate('X',1,1))\n",
    "#qc2.str()"
   ]
  },
  {
   "cell_type": "code",
   "execution_count": 14,
   "metadata": {},
   "outputs": [
    {
     "data": {
      "text/plain": [
       "['(-0.000000 +0.000000 i) |0000>',\n",
       " '(0.000000 +0.000000 i) |1000>',\n",
       " '(0.000000 -0.000000 i) |0100>',\n",
       " '(0.993560 +0.000000 i) |1100>',\n",
       " '(0.000000 +0.000000 i) |0010>',\n",
       " '(0.000000 +0.000000 i) |1010>',\n",
       " '(-0.000000 +0.000000 i) |0110>',\n",
       " '(0.000000 +0.000000 i) |1110>',\n",
       " '(0.000000 +0.000000 i) |0001>',\n",
       " '(-0.000000 +0.000000 i) |1001>',\n",
       " '(0.000000 +0.000000 i) |0101>',\n",
       " '(0.000000 +0.000000 i) |1101>',\n",
       " '(-0.113309 +0.000000 i) |0011>',\n",
       " '(0.000000 +0.000000 i) |1011>',\n",
       " '(0.000000 +0.000000 i) |0111>',\n",
       " '(-0.000000 +0.000000 i) |1111>']"
      ]
     },
     "execution_count": 14,
     "metadata": {},
     "output_type": "execute_result"
    }
   ],
   "source": [
    "qc2.apply_circuit(expn_generator)\n",
    "qc2.str()"
   ]
  },
  {
   "cell_type": "markdown",
   "metadata": {},
   "source": [
    "# Now set up UCCSD for variational optemization via VQE"
   ]
  },
  {
   "cell_type": "code",
   "execution_count": 15,
   "metadata": {},
   "outputs": [],
   "source": [
    "# import to get hamiltonian from psi \n",
    "# import unittest\n",
    "# import qforte\n",
    "# from openfermion.hamiltonians import MolecularData\n",
    "# from openfermion.transforms import get_fermion_operator, jordan_wigner\n",
    "# from openfermionpsi4 import run_psi4\n",
    "# import numpy"
   ]
  },
  {
   "cell_type": "code",
   "execution_count": 16,
   "metadata": {},
   "outputs": [
    {
     "name": "stdout",
     "output_type": "stream",
     "text": [
      "Hartree-Fock energy of -1.1166843870661929 Hartree.\n",
      "Hartree-Fock energy of -1.137270174684553 Hartree.\n",
      "Hartree-Fock energy of -1.1372701746571032 Hartree.\n"
     ]
    }
   ],
   "source": [
    "# Set molecule parameters.\n",
    "# basis = 'sto-3g'\n",
    "# multiplicity = 1\n",
    "# bond_length_interval = 0.75\n",
    "# n_points = 1\n",
    "\n",
    "# # Set calculation parameters.\n",
    "# run_scf = 1\n",
    "# run_mp2 = 0\n",
    "# run_cisd = 0\n",
    "# run_ccsd = 1\n",
    "# run_fci = 1\n",
    "# delete_input = True\n",
    "# delete_output = True\n",
    "\n",
    "# # Generate molecule at different bond lengths.\n",
    "# hf_energies = []\n",
    "# fci_energies = []\n",
    "# bond_lengths = []\n",
    "# for point in range(1, n_points + 1):\n",
    "#     bond_length = bond_length_interval * float(point)\n",
    "#     bond_lengths += [bond_length]\n",
    "#     geometry = [('H', (0., 0., 0.)), ('H', (0., 0., bond_length))]\n",
    "#     molecule = MolecularData(\n",
    "#         geometry, basis, multiplicity,\n",
    "#         description=str(round(bond_length, 2)))\n",
    "    \n",
    "#     # Run Psi4.\n",
    "#     molecule = run_psi4(molecule,\n",
    "#                         run_scf=run_scf,\n",
    "#                         run_mp2=run_mp2,\n",
    "#                         run_cisd=run_cisd,\n",
    "#                         run_ccsd=run_ccsd,\n",
    "#                         run_fci=run_fci)\n",
    "    \n",
    "print('Hartree-Fock energy of {} Hartree.'.format(molecule.hf_energy))\n",
    "print('Hartree-Fock energy of {} Hartree.'.format(molecule.ccsd_energy))\n",
    "print('Hartree-Fock energy of {} Hartree.'.format(molecule.fci_energy))"
   ]
  },
  {
   "cell_type": "code",
   "execution_count": 55,
   "metadata": {
    "scrolled": false
   },
   "outputs": [],
   "source": [
    "active_space_start = 0\n",
    "active_space_stop = 2\n",
    "\n",
    "molecular_hamiltonian = molecule.get_molecular_hamiltonian(\n",
    "    occupied_indices=range(active_space_start),\n",
    "    active_indices=range(active_space_start, active_space_stop))\n",
    "\n",
    "# Map operator to fermions and qubits.\n",
    "fermion_hamiltonian = get_fermion_operator(molecular_hamiltonian)\n",
    "qubit_hamiltonian = jordan_wigner(fermion_hamiltonian)\n",
    "#qubit_hamiltonian.compress()\n",
    "# print('The Jordan-Wigner Molecular Hamiltonian in canonical basis:\\n{}'.format(qubit_hamiltonian))\n",
    "\n",
    "# print('\\nBuild Qforte Hamiltonian and generator to calculate the expectation value')\n",
    "qforte_hamiltonian = qforte.build_from_openfermion(qubit_hamiltonian)\n",
    "# print('\\nThe Molecular Hamiltonian in canonical basis:')\n"
   ]
  },
  {
   "cell_type": "code",
   "execution_count": 73,
   "metadata": {},
   "outputs": [
    {
     "name": "stdout",
     "output_type": "stream",
     "text": [
      "\n",
      " Quantum operator:\n",
      "(-0.09886396978427399+0j)[]\n",
      "+ (0.1711977489805748+0j)[Z0]\n",
      "+ (0.17119774898057483+0j)[Z1]\n",
      "+ (-0.22278593024287585+0j)[Z2]\n",
      "+ (-0.22278593024287585+0j)[Z3]\n",
      "+ (0.16862219157249936+0j)[Z0 Z1]\n",
      "+ (0.045322202057777684+0j)[Y0 X1 X2 Y3]\n",
      "+ (-0.045322202057777684+0j)[Y0 Y1 X2 X3]\n",
      "+ (-0.045322202057777684+0j)[X0 X1 Y2 Y3]\n",
      "+ (0.045322202057777684+0j)[X0 Y1 Y2 X3]\n",
      "+ (0.1205448220329002+0j)[Z0 Z2]\n",
      "+ (0.16586702409067788+0j)[Z0 Z3]\n",
      "+ (0.16586702409067788+0j)[Z1 Z2]\n",
      "+ (0.1205448220329002+0j)[Z1 Z3]\n",
      "+ (0.17434844183963868+0j)[Z2 Z3]\n",
      "\n",
      " Quantum operator:\n",
      "(-0.098863969784274+0j)[]\n",
      "+ (0.1711977489805748+0j)[Z0]\n",
      "+ (0.1711977489805748+0j)[Z1]\n",
      "+ (-0.222785930242875+0j)[Z2]\n",
      "+ (-0.222785930242875+0j)[Z3]\n",
      "+ (0.1686221915724993+0j)[Z0 Z1]\n",
      "+ (0.0453222020577776+0j)[Y0 X1 X2 Y3]\n",
      "+ (-0.045322202057777+0j)[Y0 Y1 X2 X3]\n",
      "+ (-0.045322202057777+0j)[X0 X1 Y2 Y3]\n",
      "+ (0.0453222020577776+0j)[X0 Y1 Y2 X3]\n",
      "+ (0.1205448220329002+0j)[Z0 Z2]\n",
      "+ (0.1658670240906778+0j)[Z0 Z3]\n",
      "+ (0.1658670240906778+0j)[Z1 Z2]\n",
      "+ (0.1205448220329002+0j)[Z1 Z3]\n",
      "+ (0.1743484418396386+0j)[Z2 Z3]\n"
     ]
    }
   ],
   "source": [
    "qforte.smart_print(qforte_hamiltonian)\n",
    "\n",
    "circ_vec = [qforte.QuantumCircuit(), \n",
    "qforte.build_circuit('Z_0'), \n",
    "qforte.build_circuit('Z_1'), \n",
    "qforte.build_circuit('Z_2'), \n",
    "qforte.build_circuit('Z_3'), \n",
    "qforte.build_circuit('Z_0 Z_1'), \n",
    "qforte.build_circuit('Y_0 X_1 X_2 Y_3'),\n",
    "qforte.build_circuit('Y_0 Y_1 X_2 X_3'),\n",
    "qforte.build_circuit('X_0 X_1 Y_2 Y_3'),\n",
    "qforte.build_circuit('X_0 Y_1 Y_2 X_3'),\n",
    "qforte.build_circuit('Z_0 Z_2'), \n",
    "qforte.build_circuit('Z_0 Z_3'), \n",
    "qforte.build_circuit('Z_1 Z_2'), \n",
    "qforte.build_circuit('Z_1 Z_3'), \n",
    "qforte.build_circuit('Z_2 Z_3')] \n",
    "\n",
    "coef_vec = [-0.098863969784274,\n",
    "0.1711977489805748,\n",
    "0.1711977489805748,\n",
    "-0.222785930242875,\n",
    "-0.222785930242875,\n",
    "0.1686221915724993,\n",
    "0.0453222020577776,\n",
    "-0.045322202057777,\n",
    "-0.045322202057777,\n",
    "0.0453222020577776,\n",
    "0.1205448220329002,\n",
    "0.1658670240906778,\n",
    "0.1658670240906778,\n",
    "0.1205448220329002,\n",
    "0.1743484418396386]\n",
    "\n",
    "H2_qubit_hamiltonian = qforte.QuantumOperator()\n",
    "for i in range(len(circ_vec)):\n",
    "    H2_qubit_hamiltonian.add_term(coef_vec[i], circ_vec[i])\n",
    "    \n",
    "qforte.smart_print(H2_qubit_hamiltonian)\n"
   ]
  },
  {
   "cell_type": "markdown",
   "metadata": {},
   "source": [
    "# Set up VQE object"
   ]
  },
  {
   "cell_type": "code",
   "execution_count": 18,
   "metadata": {},
   "outputs": [],
   "source": [
    "myVQE = qforte.VQE(4, 2, expn_generator, qforte_hamiltonian, 1000) "
   ]
  },
  {
   "cell_type": "code",
   "execution_count": 19,
   "metadata": {},
   "outputs": [
    {
     "name": "stdout",
     "output_type": "stream",
     "text": [
      "-1.1213978960802022\n"
     ]
    }
   ],
   "source": [
    "circ = qforte.QuantumCircuit()\n",
    "Exper2 = qforte.Experiment(4, 2, expn_generator, qforte_hamiltonian, 1000)\n",
    "params2 = [0.0] * 8 \n",
    "print(Exper2.experimental_avg(params2))"
   ]
  },
  {
   "cell_type": "code",
   "execution_count": 74,
   "metadata": {},
   "outputs": [
    {
     "name": "stdout",
     "output_type": "stream",
     "text": [
      "-1.1167844584883373\n",
      "\n",
      "-1.1166169476295296\n"
     ]
    }
   ],
   "source": [
    "circ = qforte.QuantumCircuit()\n",
    "Exper2 = qforte.Experiment(4, 2, circ, qforte_hamiltonian, 500000)\n",
    "params2 = []\n",
    "print(Exper2.experimental_avg(params2))\n",
    "\n",
    "print('')\n",
    "Exper2 = qforte.Experiment(4, 2, circ, H2_qubit_hamiltonian, 500000)\n",
    "params2 = []\n",
    "print(Exper2.experimental_avg(params2))"
   ]
  },
  {
   "cell_type": "code",
   "execution_count": null,
   "metadata": {},
   "outputs": [],
   "source": []
  },
  {
   "cell_type": "markdown",
   "metadata": {},
   "source": [
    "# Perform the porcedure "
   ]
  },
  {
   "cell_type": "code",
   "execution_count": 20,
   "metadata": {},
   "outputs": [
    {
     "name": "stdout",
     "output_type": "stream",
     "text": [
      "8\n",
      "Warning: Maximum number of function evaluations has been exceeded.\n",
      "-1.1259301162859798\n"
     ]
    }
   ],
   "source": [
    "optemized = myVQE.do_vqe()\n",
    "print(optemized.fun)\n"
   ]
  },
  {
   "cell_type": "code",
   "execution_count": 21,
   "metadata": {},
   "outputs": [
    {
     "name": "stdout",
     "output_type": "stream",
     "text": [
      "[ 5.83648682e-05  5.83648682e-05  3.36456299e-05 -2.07366943e-05\n",
      "  1.67739868e-04  5.83648682e-05 -1.17416382e-04 -4.66918945e-05]\n"
     ]
    }
   ],
   "source": [
    "print(optemized.x)"
   ]
  }
 ],
 "metadata": {
  "kernelspec": {
   "display_name": "Python 3",
   "language": "python",
   "name": "python3"
  },
  "language_info": {
   "codemirror_mode": {
    "name": "ipython",
    "version": 3
   },
   "file_extension": ".py",
   "mimetype": "text/x-python",
   "name": "python",
   "nbconvert_exporter": "python",
   "pygments_lexer": "ipython3",
   "version": "3.6.7"
  }
 },
 "nbformat": 4,
 "nbformat_minor": 2
}
