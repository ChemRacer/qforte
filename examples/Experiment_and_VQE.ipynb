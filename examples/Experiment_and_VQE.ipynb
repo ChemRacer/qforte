{
 "cells": [
  {
   "cell_type": "code",
   "execution_count": 1,
   "metadata": {},
   "outputs": [],
   "source": [
    "import qforte\n",
    "import numpy\n",
    "import scipy\n",
    "from scipy.optimize import minimize"
   ]
  },
  {
   "cell_type": "markdown",
   "metadata": {},
   "source": [
    "# Want to build a quantum state using python funciton that returns the energy (or experimental average of operator) \n"
   ]
  },
  {
   "cell_type": "code",
   "execution_count": 2,
   "metadata": {},
   "outputs": [],
   "source": [
    "def prep_circuit_maker(param, target):\n",
    "    temp_gate = qforte.make_gate(\"Rx\", target, target, param)\n",
    "    return temp_gate\n",
    "\n",
    "def exp_avg(measurements):\n",
    "    nume = sum(measurements)\n",
    "    denom = len(measurements)\n",
    "    return nume/denom\n",
    "\n",
    "def Energy(Theta): \n",
    "    wfn1 = qforte.QuantumComputer(1)\n",
    "    Rot = prep_circuit_maker(Theta)\n",
    "    wfn1.apply_gate(Rot)\n",
    "    measurements = wfn1.measure_circuit(H, 100000)\n",
    "    return exp_avg(measurements)\n",
    "        "
   ]
  },
  {
   "cell_type": "markdown",
   "metadata": {},
   "source": [
    "# Start the Quantum Computer"
   ]
  },
  {
   "cell_type": "code",
   "execution_count": 3,
   "metadata": {},
   "outputs": [
    {
     "data": {
      "text/plain": [
       "['(1.000000 +0.000000 i) |0000>',\n",
       " '(0.000000 +0.000000 i) |1000>',\n",
       " '(0.000000 +0.000000 i) |0100>',\n",
       " '(0.000000 +0.000000 i) |1100>',\n",
       " '(0.000000 +0.000000 i) |0010>',\n",
       " '(0.000000 +0.000000 i) |1010>',\n",
       " '(0.000000 +0.000000 i) |0110>',\n",
       " '(0.000000 +0.000000 i) |1110>',\n",
       " '(0.000000 +0.000000 i) |0001>',\n",
       " '(0.000000 +0.000000 i) |1001>',\n",
       " '(0.000000 +0.000000 i) |0101>',\n",
       " '(0.000000 +0.000000 i) |1101>',\n",
       " '(0.000000 +0.000000 i) |0011>',\n",
       " '(0.000000 +0.000000 i) |1011>',\n",
       " '(0.000000 +0.000000 i) |0111>',\n",
       " '(0.000000 +0.000000 i) |1111>']"
      ]
     },
     "execution_count": 3,
     "metadata": {},
     "output_type": "execute_result"
    }
   ],
   "source": [
    "# initialize a quantum computer object representing our wfn\n",
    "wfn = qforte.QuantumComputer(4)\n",
    "wfn.str()"
   ]
  },
  {
   "cell_type": "markdown",
   "metadata": {},
   "source": [
    "# A single state preparation "
   ]
  },
  {
   "cell_type": "code",
   "execution_count": 4,
   "metadata": {},
   "outputs": [],
   "source": [
    "\n",
    "#make a state preparation circuit with an angle of 1.71 rads\n",
    "p0 = prep_circuit_maker(1.71,0)\n",
    "p1 = prep_circuit_maker(3.11,1)\n",
    "p2 = prep_circuit_maker(0.71,2)\n",
    "p3 = prep_circuit_maker(2.11,3)\n",
    "\n",
    "#apply the state preperatio circuit to build the state\n",
    "wfn.apply_gate(p0)\n",
    "wfn.apply_gate(p1)\n",
    "wfn.apply_gate(p2)\n",
    "wfn.apply_gate(p3)\n",
    "wfn.str()\n",
    "\n",
    "#make generator\n",
    "\n",
    "generator1 = qforte.QuantumCircuit()\n",
    "generator1.add_gate(p0)\n",
    "generator1.add_gate(p1)\n",
    "generator1.add_gate(p2)\n",
    "generator1.add_gate(p3)\n"
   ]
  },
  {
   "cell_type": "markdown",
   "metadata": {},
   "source": [
    "# Consider a hamiltonian as a single Z gate"
   ]
  },
  {
   "cell_type": "code",
   "execution_count": 5,
   "metadata": {},
   "outputs": [],
   "source": [
    "#make hamiltonian \n",
    "H = qforte.QuantumCircuit()\n",
    "z0 = qforte.make_gate('Z',0,0)\n",
    "H.add_gate(z0)\n",
    "H.str()\n",
    "Hop = qforte.QuantumOperator()\n",
    "Hop.add_term(1.0,H)"
   ]
  },
  {
   "cell_type": "markdown",
   "metadata": {},
   "source": [
    "# Get the energy evaluation based on many measurements "
   ]
  },
  {
   "cell_type": "code",
   "execution_count": 6,
   "metadata": {},
   "outputs": [],
   "source": [
    "Exper = qforte.Experiment(4,generator1,Hop,10000)"
   ]
  },
  {
   "cell_type": "markdown",
   "metadata": {},
   "source": [
    "# Run the Experiment"
   ]
  },
  {
   "cell_type": "code",
   "execution_count": 7,
   "metadata": {},
   "outputs": [
    {
     "data": {
      "text/plain": [
       "-0.141"
      ]
     },
     "execution_count": 7,
     "metadata": {},
     "output_type": "execute_result"
    }
   ],
   "source": [
    "params = [1.71, 3.11, 0.71, 2.11]\n",
    "Exper.experimental_avg(params)"
   ]
  },
  {
   "cell_type": "code",
   "execution_count": 8,
   "metadata": {},
   "outputs": [
    {
     "data": {
      "text/plain": [
       "0.5344"
      ]
     },
     "execution_count": 8,
     "metadata": {},
     "output_type": "execute_result"
    }
   ],
   "source": [
    "params2 = [1.00, 2.11, 1.71, 0.11]\n",
    "Exper.experimental_avg(params2)"
   ]
  },
  {
   "cell_type": "code",
   "execution_count": 20,
   "metadata": {},
   "outputs": [
    {
     "name": "stdout",
     "output_type": "stream",
     "text": [
      "Optimization terminated successfully.\n",
      "         Current function value: -1.000000\n",
      "         Iterations: 47\n",
      "         Function evaluations: 180\n"
     ]
    }
   ],
   "source": [
    "res = minimize(Exper.experimental_avg, [ 3.15734161,  1.70031291, -0.67404628,  1.25712308], method='nelder-mead', options={'xtol': 1e-8, 'disp': True})"
   ]
  },
  {
   "cell_type": "code",
   "execution_count": 21,
   "metadata": {},
   "outputs": [
    {
     "name": "stdout",
     "output_type": "stream",
     "text": [
      " final_simplex: (array([[ 3.15734161,  1.70031291, -0.70774859,  1.25712308],\n",
      "       [ 3.15734161,  1.70031291, -0.70774859,  1.25712308],\n",
      "       [ 3.15734161,  1.70031291, -0.70774859,  1.25712308],\n",
      "       [ 3.15734161,  1.70031292, -0.70774859,  1.25712308],\n",
      "       [ 3.15734161,  1.70031291, -0.70774859,  1.25712308]]), array([-1., -1., -1., -1., -1.]))\n",
      "           fun: -1.0\n",
      "       message: 'Optimization terminated successfully.'\n",
      "          nfev: 180\n",
      "           nit: 47\n",
      "        status: 0\n",
      "       success: True\n",
      "             x: array([ 3.15734161,  1.70031291, -0.70774859,  1.25712308])\n"
     ]
    }
   ],
   "source": [
    "print(res)"
   ]
  }
 ],
 "metadata": {
  "kernelspec": {
   "display_name": "Python 3",
   "language": "python",
   "name": "python3"
  },
  "language_info": {
   "codemirror_mode": {
    "name": "ipython",
    "version": 3
   },
   "file_extension": ".py",
   "mimetype": "text/x-python",
   "name": "python",
   "nbconvert_exporter": "python",
   "pygments_lexer": "ipython3",
   "version": "3.6.7"
  }
 },
 "nbformat": 4,
 "nbformat_minor": 2
}
