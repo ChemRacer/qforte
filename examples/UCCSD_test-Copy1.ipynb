{
 "cells": [
  {
   "cell_type": "code",
   "execution_count": 5,
   "metadata": {},
   "outputs": [],
   "source": [
    "import numpy\n",
    "from numpy.random import randn\n",
    "\n",
    "from openfermion.transforms._jordan_wigner import *\n",
    "\n",
    "from openfermion.utils._trotter_exp_to_qgates import *\n",
    "\n",
    "from openfermion.utils import (commutator, count_qubits, expectation,\n",
    "                               hermitian_conjugated, normal_ordered,\n",
    "                               jordan_wigner_sparse, jw_hartree_fock_state,\n",
    "                               s_squared_operator, sz_operator)\n",
    "\n",
    "from openfermion.utils._unitary_cc import (uccsd_generator,\n",
    "                                           uccsd_singlet_generator,\n",
    "                                           uccsd_singlet_get_packed_amplitudes,\n",
    "                                           uccsd_singlet_paramsize)"
   ]
  },
  {
   "cell_type": "code",
   "execution_count": 6,
   "metadata": {},
   "outputs": [
    {
     "name": "stdout",
     "output_type": "stream",
     "text": [
      "singles\n",
      "[[-2.12979727  0.19601266 -0.19089402]\n",
      " [ 0.86309484  0.3745043   0.37282569]\n",
      " [-0.26461217  0.39227754 -0.5698435 ]]\n",
      "doubles\n",
      "[[[[-1.34287803e+00  1.68017839e-01  1.06546879e+00]\n",
      "   [-1.97765834e-01  1.56925462e+00  8.43962442e-01]\n",
      "   [-4.52994123e-01 -4.07297952e-01  5.64606100e-01]]\n",
      "\n",
      "  [[ 2.74074693e-01  4.05285999e-01 -1.57790021e+00]\n",
      "   [-7.74495626e-01 -6.54630556e-02 -2.14060670e-01]\n",
      "   [ 4.38475287e-01  1.62109500e+00  9.46329135e-01]]\n",
      "\n",
      "  [[-2.05506047e+00  4.72369842e-01 -4.09015507e-01]\n",
      "   [ 6.93098721e-01 -1.34138198e+00 -5.88245088e-01]\n",
      "   [-1.45202523e+00 -1.68890705e-01 -1.07660559e+00]]]\n",
      "\n",
      "\n",
      " [[[ 1.92432853e-01 -1.16032950e+00 -2.11369195e+00]\n",
      "   [ 2.11817237e+00 -1.27600183e+00  2.35184601e+00]\n",
      "   [-2.80175799e-01  3.76390044e-01 -2.67248714e-01]]\n",
      "\n",
      "  [[-2.55619505e-01  5.77092253e-01 -6.35265325e-01]\n",
      "   [ 2.03686079e+00  1.46166959e+00  8.92591240e-01]\n",
      "   [-6.04446825e-01 -7.53213935e-01  4.35354377e-01]]\n",
      "\n",
      "  [[ 1.50585141e+00  4.01231100e+00  3.12855627e-01]\n",
      "   [ 1.12011273e+00 -1.28387971e+00 -3.21013465e-01]\n",
      "   [-7.08504653e-02  1.23048115e+00  1.20139806e-01]]]\n",
      "\n",
      "\n",
      " [[[ 8.78145379e-01 -1.20241247e-01  1.39826155e-01]\n",
      "   [-4.36737286e-01  2.84227122e-01  1.09826506e-01]\n",
      "   [ 7.02472513e-01  1.52885877e-01  2.09733711e+00]]\n",
      "\n",
      "  [[ 6.76706736e-01  3.92857851e-01  3.48557083e-03]\n",
      "   [-2.59836568e-02 -1.92786039e+00 -7.54869184e-01]\n",
      "   [-1.10050525e+00  3.86151212e-01  1.71856670e+00]]\n",
      "\n",
      "  [[-1.39910945e+00 -3.82153241e-01 -1.80467391e+00]\n",
      "   [ 1.23022029e+00  1.23122679e+00 -1.25362881e+00]\n",
      "   [ 5.76280378e-01 -1.12605367e+00 -1.72880195e-01]]]]\n"
     ]
    }
   ],
   "source": [
    "test_orbitals = 3\n",
    "\n",
    "single_amplitudes = randn(*(test_orbitals,) * 2)\n",
    "double_amplitudes = randn(*(test_orbitals,) * 4)\n",
    "print('singles')\n",
    "print(single_amplitudes)\n",
    "print('doubles')\n",
    "print(double_amplitudes)\n"
   ]
  },
  {
   "cell_type": "code",
   "execution_count": 7,
   "metadata": {
    "scrolled": false
   },
   "outputs": [
    {
     "name": "stdout",
     "output_type": "stream",
     "text": [
      "openferion pre trotterized generator\n",
      "-0.024415013819882148 [0^ 0 0^ 1] +\n",
      "0.18732341389708518 [0^ 0 0^ 2] +\n",
      "-0.4718405270995154 [0^ 0 1^ 0] +\n",
      "1.82487412038224 [0^ 0 1^ 1] +\n",
      "0.1672557061763834 [0^ 0 1^ 2] +\n",
      "1.6020663468581522 [0^ 0 2^ 0] +\n",
      "-1.9131493581162426 [0^ 0 2^ 1] +\n",
      "1.963715550906748 [0^ 0 2^ 2] +\n",
      "-0.667082182875611 [0^ 1] +\n",
      "0.4718405270995154 [0^ 1 0^ 0] +\n",
      "-1.7128863681003974 [0^ 1 0^ 1] +\n",
      "-1.141162928837435 [0^ 1 0^ 2] +\n",
      "-2.102323843819901 [0^ 1 1^ 1] +\n",
      "-0.18807701326792836 [0^ 1 1^ 2] +\n",
      "-0.2546234335046131 [0^ 1 2^ 0] +\n",
      "0.5009822652729545 [0^ 1 2^ 1] +\n",
      "-0.2838911550863935 [0^ 1 2^ 2] +\n",
      "0.07371814745293548 [0^ 2] +\n",
      "-1.6020663468581522 [0^ 2 0^ 0] +\n",
      "0.7525456411845289 [0^ 2 0^ 1] +\n",
      "-1.1114880199765107 [0^ 2 0^ 2] +\n",
      "0.2546234335046131 [0^ 2 1^ 0] +\n",
      "-0.7369351525016719 [0^ 2 1^ 1] +\n",
      "0.5122601571716504 [0^ 2 1^ 2] +\n",
      "-0.09804024005469018 [0^ 2 2^ 1] +\n",
      "-1.652885966933101 [0^ 2 2^ 2] +\n",
      "0.667082182875611 [1^ 0] +\n",
      "0.024415013819882148 [1^ 0 0^ 0] +\n",
      "-1.993450707021767 [1^ 0 0^ 2] +\n",
      "1.7128863681003974 [1^ 0 1^ 0] +\n",
      "-1.8530940782181438 [1^ 0 1^ 1] +\n",
      "1.958988156594509 [1^ 0 1^ 2] +\n",
      "-0.7525456411845289 [1^ 0 2^ 0] +\n",
      "-3.6359209563786075 [1^ 0 2^ 1] +\n",
      "0.1149045263169291 [1^ 0 2^ 2] +\n",
      "-1.82487412038224 [1^ 1 0^ 0] +\n",
      "1.8530940782181438 [1^ 1 0^ 1] +\n",
      "-0.9194924465748324 [1^ 1 0^ 2] +\n",
      "2.102323843819901 [1^ 1 1^ 0] +\n",
      "2.8204516258206525 [1^ 1 1^ 2] +\n",
      "0.7369351525016719 [1^ 1 2^ 0] +\n",
      "0.5306657762539424 [1^ 1 2^ 1] +\n",
      "-0.7958724081291556 [1^ 1 2^ 2] +\n",
      "-0.01945184687318302 [1^ 2] +\n",
      "1.9131493581162426 [1^ 2 0^ 0] +\n",
      "3.6359209563786075 [1^ 2 0^ 1] +\n",
      "0.159969749566188 [1^ 2 0^ 2] +\n",
      "-0.5009822652729545 [1^ 2 1^ 0] +\n",
      "-0.5306657762539424 [1^ 2 1^ 1] +\n",
      "-0.7071646772546559 [1^ 2 1^ 2] +\n",
      "0.09804024005469018 [1^ 2 2^ 0] +\n",
      "1.2461934776914265 [1^ 2 2^ 2] +\n",
      "-0.07371814745293548 [2^ 0] +\n",
      "-0.18732341389708518 [2^ 0 0^ 0] +\n",
      "1.993450707021767 [2^ 0 0^ 1] +\n",
      "1.141162928837435 [2^ 0 1^ 0] +\n",
      "0.9194924465748324 [2^ 0 1^ 1] +\n",
      "0.10634093512534551 [2^ 0 1^ 2] +\n",
      "1.1114880199765107 [2^ 0 2^ 0] +\n",
      "-0.159969749566188 [2^ 0 2^ 1] +\n",
      "3.9020110245663915 [2^ 0 2^ 2] +\n",
      "0.01945184687318302 [2^ 1] +\n",
      "-0.1672557061763834 [2^ 1 0^ 0] +\n",
      "-1.958988156594509 [2^ 1 0^ 1] +\n",
      "-0.10634093512534551 [2^ 1 0^ 2] +\n",
      "0.18807701326792836 [2^ 1 1^ 0] +\n",
      "-2.8204516258206525 [2^ 1 1^ 1] +\n",
      "-0.5122601571716504 [2^ 1 2^ 0] +\n",
      "0.7071646772546559 [2^ 1 2^ 1] +\n",
      "2.972195510962867 [2^ 1 2^ 2] +\n",
      "-1.963715550906748 [2^ 2 0^ 0] +\n",
      "-0.1149045263169291 [2^ 2 0^ 1] +\n",
      "-3.9020110245663915 [2^ 2 0^ 2] +\n",
      "0.2838911550863935 [2^ 2 1^ 0] +\n",
      "0.7958724081291556 [2^ 2 1^ 1] +\n",
      "-2.972195510962867 [2^ 2 1^ 2] +\n",
      "1.652885966933101 [2^ 2 2^ 0] +\n",
      "-1.2461934776914265 [2^ 2 2^ 1]\n",
      "\n",
      "(1.4945342668408639+0j) [X0 Y1] +\n",
      "(-0.04860362655582173+0j) [X0 Y1 Z2] +\n",
      "(2.0660285949723+0j) [X0 Z1 Y2] +\n",
      "(-1.2760678855467957+0j) [X0 Y2] +\n",
      "(-1.4945342668408639+0j) [Y0 X1] +\n",
      "(0.04860362655582173+0j) [Y0 X1 Z2] +\n",
      "(-2.0660285949723+0j) [Y0 Z1 X2] +\n",
      "(1.2760678855467957+0j) [Y0 X2] +\n",
      "(0.9548080844524449+0j) [Z0 X1 Y2] +\n",
      "(-0.9548080844524449+0j) [Z0 Y1 X2] +\n",
      "(-1.9816793592610096+0j) [X1 Y2] +\n",
      "(1.9816793592610096+0j) [Y1 X2]\n"
     ]
    }
   ],
   "source": [
    "generator = uccsd_generator(single_amplitudes, double_amplitudes)\n",
    "\n",
    "\n",
    "qubit_op = jordan_wigner(generator)\n",
    "\n",
    "#of_generator = trotter_operator_grouping(qubit_op)\n",
    "\n",
    "# print('openfermion trotterized cluster operator')\n",
    "# print(of_generator)\n",
    "# print('')\n",
    "\n",
    "qubit_op *= 1.0j\n",
    "\n",
    "print('openferion pre trotterized generator')\n",
    "print(generator)\n",
    "print('')\n",
    "print(qubit_op)"
   ]
  },
  {
   "cell_type": "code",
   "execution_count": 8,
   "metadata": {},
   "outputs": [],
   "source": [
    "from forestopenfermion.pyquil_connector import qubitop_to_pyquilpauli\n",
    "from openfermion.ops import QubitOperator\n"
   ]
  },
  {
   "cell_type": "code",
   "execution_count": 9,
   "metadata": {},
   "outputs": [
    {
     "name": "stdout",
     "output_type": "stream",
     "text": [
      "(-1.4945342668408639+0j)*Y0*X1 + (1.4945342668408639+0j)*X0*Y1 + (-2.0660285949723+0j)*Y0*Z1*X2 + (2.0660285949723+0j)*X0*Z1*Y2 + (1.9816793592610096+0j)*Y1*X2 + (-1.9816793592610096+0j)*X1*Y2 + (-0.9548080844524449+0j)*Z0*Y1*X2 + (0.9548080844524449+0j)*Z0*X1*Y2 + (1.2760678855467957+0j)*Y0*X2 + (-1.2760678855467957+0j)*X0*Y2 + (0.04860362655582173+0j)*Y0*X1*Z2 + (-0.04860362655582173+0j)*X0*Y1*Z2\n"
     ]
    }
   ],
   "source": [
    "#check circuit as defined in pyquil\n",
    "pauli_sum_representation = qubitop_to_pyquilpauli(qubit_op)\n",
    "print(pauli_sum_representation)"
   ]
  },
  {
   "cell_type": "code",
   "execution_count": null,
   "metadata": {},
   "outputs": [],
   "source": []
  },
  {
   "cell_type": "code",
   "execution_count": 10,
   "metadata": {
    "scrolled": true
   },
   "outputs": [
    {
     "name": "stdout",
     "output_type": "stream",
     "text": [
      "X 0\n",
      "RX(pi/2) 0\n",
      "H 1\n",
      "CNOT 0 1\n",
      "RZ(-2.9890685336817278) 1\n",
      "CNOT 0 1\n",
      "RX(-pi/2) 0\n",
      "H 1\n",
      "H 0\n",
      "RX(pi/2) 1\n",
      "CNOT 0 1\n",
      "RZ(2.9890685336817278) 1\n",
      "CNOT 0 1\n",
      "H 0\n",
      "RX(-pi/2) 1\n",
      "RX(pi/2) 0\n",
      "H 2\n",
      "CNOT 0 1\n",
      "CNOT 1 2\n",
      "RZ(-4.1320571899446) 2\n",
      "CNOT 1 2\n",
      "CNOT 0 1\n",
      "RX(-pi/2) 0\n",
      "H 2\n",
      "H 0\n",
      "RX(pi/2) 2\n",
      "CNOT 0 1\n",
      "CNOT 1 2\n",
      "RZ(4.1320571899446) 2\n",
      "CNOT 1 2\n",
      "CNOT 0 1\n",
      "H 0\n",
      "RX(-pi/2) 2\n",
      "RX(pi/2) 1\n",
      "H 2\n",
      "CNOT 1 2\n",
      "RZ(3.963358718522019) 2\n",
      "CNOT 1 2\n",
      "RX(-pi/2) 1\n",
      "H 2\n",
      "H 1\n",
      "RX(pi/2) 2\n",
      "CNOT 1 2\n",
      "RZ(-3.963358718522019) 2\n",
      "CNOT 1 2\n",
      "H 1\n",
      "RX(-pi/2) 2\n",
      "RX(pi/2) 1\n",
      "H 2\n",
      "CNOT 0 1\n",
      "CNOT 1 2\n",
      "RZ(-1.9096161689048898) 2\n",
      "CNOT 1 2\n",
      "CNOT 0 1\n",
      "RX(-pi/2) 1\n",
      "H 2\n",
      "H 1\n",
      "RX(pi/2) 2\n",
      "CNOT 0 1\n",
      "CNOT 1 2\n",
      "RZ(1.9096161689048898) 2\n",
      "CNOT 1 2\n",
      "CNOT 0 1\n",
      "H 1\n",
      "RX(-pi/2) 2\n",
      "RX(pi/2) 0\n",
      "H 2\n",
      "CNOT 0 2\n",
      "RZ(2.5521357710935915) 2\n",
      "CNOT 0 2\n",
      "RX(-pi/2) 0\n",
      "H 2\n",
      "H 0\n",
      "RX(pi/2) 2\n",
      "CNOT 0 2\n",
      "RZ(-2.5521357710935915) 2\n",
      "CNOT 0 2\n",
      "H 0\n",
      "RX(-pi/2) 2\n",
      "RX(pi/2) 0\n",
      "H 1\n",
      "CNOT 0 1\n",
      "CNOT 1 2\n",
      "RZ(0.09720725311164347) 2\n",
      "CNOT 1 2\n",
      "CNOT 0 1\n",
      "RX(-pi/2) 0\n",
      "H 1\n",
      "H 0\n",
      "RX(pi/2) 1\n",
      "CNOT 0 1\n",
      "CNOT 1 2\n",
      "RZ(-0.09720725311164347) 2\n",
      "CNOT 1 2\n",
      "CNOT 0 1\n",
      "H 0\n",
      "RX(-pi/2) 1\n",
      "\n",
      "97\n"
     ]
    }
   ],
   "source": [
    "from pyquil.quil import Program\n",
    "from forestopenfermion import exponentiate\n",
    "from pyquil.gates import *\n",
    "\n",
    "pyquil_program = exponentiate(qubit_op)\n",
    "pyquil_program = Program(X(0), pyquil_program)\n",
    "print(pyquil_program)\n",
    "print(len(pyquil_program))"
   ]
  },
  {
   "cell_type": "code",
   "execution_count": 7,
   "metadata": {},
   "outputs": [
    {
     "name": "stdout",
     "output_type": "stream",
     "text": [
      "\n",
      "(-0.9601827064+0j)|01> + (-0.2793728159+0j)|10>\n"
     ]
    }
   ],
   "source": [
    "from pyquil.api import WavefunctionSimulator\n",
    "from pyquil import Program\n",
    "\n",
    "print('')\n",
    "wfn = WavefunctionSimulator().wavefunction(pyquil_program)\n",
    "print(wfn)"
   ]
  },
  {
   "cell_type": "markdown",
   "metadata": {},
   "source": [
    "# The correct answer!"
   ]
  },
  {
   "cell_type": "code",
   "execution_count": 8,
   "metadata": {},
   "outputs": [],
   "source": [
    "# (0.2671478502+0j)|01> + (0.9636555537+0j)|10>"
   ]
  },
  {
   "cell_type": "code",
   "execution_count": 9,
   "metadata": {},
   "outputs": [],
   "source": [
    "#H0  Rx1  cX1-0  Rz1  cX1-0  H0  Rx1  Rx0  H1  cX1-0  Rz1  cX1-0  Rx0  H1"
   ]
  },
  {
   "cell_type": "markdown",
   "metadata": {},
   "source": [
    "# Now begin importing trial circuit to Qforte"
   ]
  },
  {
   "cell_type": "code",
   "execution_count": 10,
   "metadata": {},
   "outputs": [],
   "source": [
    "import qforte"
   ]
  },
  {
   "cell_type": "code",
   "execution_count": 11,
   "metadata": {},
   "outputs": [
    {
     "name": "stdout",
     "output_type": "stream",
     "text": [
      "\n",
      " Quantum operator:\n",
      "(-1.4292258995086184+0j)[X0 Y1]\n",
      "+ (1.4292258995086184+0j)[Y0 X1]\n"
     ]
    }
   ],
   "source": [
    "#get from openferion\n",
    "qforte_generator = qforte.build_from_openfermion(qubit_op)\n",
    "qforte.smart_print(qforte_generator)"
   ]
  },
  {
   "cell_type": "markdown",
   "metadata": {},
   "source": [
    "# Now try to exponentiate the full operator "
   ]
  },
  {
   "cell_type": "code",
   "execution_count": 12,
   "metadata": {
    "scrolled": false
   },
   "outputs": [
    {
     "name": "stdout",
     "output_type": "stream",
     "text": [
      "\n",
      " Quantum circuit:\n",
      "[H0  Rx1  cX1-0  Rz1  cX1-0  H0  Rx1  Rx0  H1  cX1-0  Rz1  cX1-0  Rx0  H1]\n"
     ]
    }
   ],
   "source": [
    "expn = qforte.trotterization.trotterize(qforte_generator)\n",
    "qforte.smart_print(expn)\n",
    "#expn.str()"
   ]
  },
  {
   "cell_type": "code",
   "execution_count": 13,
   "metadata": {},
   "outputs": [
    {
     "data": {
      "text/plain": [
       "['(0.000000 +0.000000 i) |00>',\n",
       " '(1.000000 +0.000000 i) |10>',\n",
       " '(0.000000 +0.000000 i) |01>',\n",
       " '(0.000000 +0.000000 i) |11>']"
      ]
     },
     "execution_count": 13,
     "metadata": {},
     "output_type": "execute_result"
    }
   ],
   "source": [
    "qc2 = qforte.QuantumComputer(2)\n",
    "qc2.apply_gate(qforte.make_gate('X',0,0))\n",
    "#qc2.apply_gate(qforte.make_gate('X',1,1))\n",
    "qc2.str()\n"
   ]
  },
  {
   "cell_type": "code",
   "execution_count": 14,
   "metadata": {},
   "outputs": [
    {
     "data": {
      "text/plain": [
       "['(0.000000 +0.000000 i) |00>',\n",
       " '(-0.960183 +0.000000 i) |10>',\n",
       " '(-0.279373 +0.000000 i) |01>',\n",
       " '(0.000000 +0.000000 i) |11>']"
      ]
     },
     "execution_count": 14,
     "metadata": {},
     "output_type": "execute_result"
    }
   ],
   "source": [
    "qc2.apply_circuit(expn)\n",
    "qc2.str()"
   ]
  },
  {
   "cell_type": "code",
   "execution_count": 15,
   "metadata": {},
   "outputs": [],
   "source": [
    "#(0.3510953756+0j)|0011> + (-0.6045891379+0j)|0101> + (-0.1071633537+0j)|0110> + (0.1697168339+0j)|1001> + (-0.6312331758+0j)|1010> + (-0.2691856261+0j)|1100>"
   ]
  },
  {
   "cell_type": "code",
   "execution_count": 16,
   "metadata": {},
   "outputs": [],
   "source": [
    "# Now try optemizing the operators... "
   ]
  }
 ],
 "metadata": {
  "kernelspec": {
   "display_name": "Python 3",
   "language": "python",
   "name": "python3"
  },
  "language_info": {
   "codemirror_mode": {
    "name": "ipython",
    "version": 3
   },
   "file_extension": ".py",
   "mimetype": "text/x-python",
   "name": "python",
   "nbconvert_exporter": "python",
   "pygments_lexer": "ipython3",
   "version": "3.6.5"
  }
 },
 "nbformat": 4,
 "nbformat_minor": 2
}
