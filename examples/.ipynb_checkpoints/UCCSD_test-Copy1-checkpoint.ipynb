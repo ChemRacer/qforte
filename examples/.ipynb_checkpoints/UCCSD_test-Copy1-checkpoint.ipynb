{
 "cells": [
  {
   "cell_type": "code",
   "execution_count": 1,
   "metadata": {},
   "outputs": [],
   "source": [
    "import numpy\n",
    "from numpy.random import randn\n",
    "\n",
    "from openfermion.transforms._jordan_wigner import *\n",
    "\n",
    "from openfermion.utils._trotter_exp_to_qgates import *\n",
    "\n",
    "from openfermion.utils import (commutator, count_qubits, expectation,\n",
    "                               hermitian_conjugated, normal_ordered,\n",
    "                               jordan_wigner_sparse, jw_hartree_fock_state,\n",
    "                               s_squared_operator, sz_operator)\n",
    "\n",
    "from openfermion.utils._unitary_cc import (uccsd_generator,\n",
    "                                           uccsd_singlet_generator,\n",
    "                                           uccsd_singlet_get_packed_amplitudes,\n",
    "                                           uccsd_singlet_paramsize)"
   ]
  },
  {
   "cell_type": "code",
   "execution_count": 2,
   "metadata": {},
   "outputs": [
    {
     "name": "stdout",
     "output_type": "stream",
     "text": [
      "singles\n",
      "[[-0.92885016  1.26237667]\n",
      " [ 0.88779938  0.38282646]]\n",
      "doubles\n",
      "[[[[ 0.87990929  1.46795448]\n",
      "   [-0.7302272  -0.2662556 ]]\n",
      "\n",
      "  [[ 0.50100943  1.17746676]\n",
      "   [-0.31459726 -0.78768257]]]\n",
      "\n",
      "\n",
      " [[[-1.74535286 -0.37986254]\n",
      "   [-0.04307069  0.32007687]]\n",
      "\n",
      "  [[-0.48451845 -0.28956348]\n",
      "   [-0.05824975 -0.50253124]]]]\n"
     ]
    }
   ],
   "source": [
    "test_orbitals = 3\n",
    "\n",
    "single_amplitudes = randn(*(test_orbitals,) * 2)\n",
    "double_amplitudes = randn(*(test_orbitals,) * 4)\n",
    "print('singles')\n",
    "print(single_amplitudes)\n",
    "print('doubles')\n",
    "print(double_amplitudes)\n"
   ]
  },
  {
   "cell_type": "code",
   "execution_count": 3,
   "metadata": {
    "scrolled": false
   },
   "outputs": [
    {
     "name": "stdout",
     "output_type": "stream",
     "text": [
      "openferion pre trotterized generator\n",
      "3.2133073375959054 [0^ 0 0^ 1] +\n",
      "-1.2312366301935826 [0^ 0 1^ 0] +\n",
      "0.2182628520742788 [0^ 0 1^ 1] +\n",
      "0.37457728333580687 [0^ 1] +\n",
      "1.2312366301935826 [0^ 1 0^ 0] +\n",
      "1.2205374525149846 [0^ 1 0^ 1] +\n",
      "-0.7294328219144751 [0^ 1 1^ 1] +\n",
      "-0.37457728333580687 [1^ 0] +\n",
      "-3.2133073375959054 [1^ 0 0^ 0] +\n",
      "-1.2205374525149846 [1^ 0 1^ 0] +\n",
      "0.6096403529394107 [1^ 0 1^ 1] +\n",
      "-0.2182628520742788 [1^ 1 0^ 0] +\n",
      "-0.6096403529394107 [1^ 1 0^ 1] +\n",
      "0.7294328219144751 [1^ 1 1^ 0]\n",
      "\n",
      "(-1.4292258995086184+0j) [X0 Y1] +\n",
      "(1.4292258995086184+0j) [Y0 X1]\n"
     ]
    }
   ],
   "source": [
    "generator = uccsd_generator(single_amplitudes, double_amplitudes)\n",
    "\n",
    "\n",
    "qubit_op = jordan_wigner(generator)\n",
    "\n",
    "#of_generator = trotter_operator_grouping(qubit_op)\n",
    "\n",
    "# print('openfermion trotterized cluster operator')\n",
    "# print(of_generator)\n",
    "# print('')\n",
    "\n",
    "qubit_op *= 1.0j\n",
    "\n",
    "print('openferion pre trotterized generator')\n",
    "print(generator)\n",
    "print('')\n",
    "print(qubit_op)"
   ]
  },
  {
   "cell_type": "code",
   "execution_count": 4,
   "metadata": {},
   "outputs": [],
   "source": [
    "from forestopenfermion.pyquil_connector import qubitop_to_pyquilpauli\n",
    "from openfermion.ops import QubitOperator\n"
   ]
  },
  {
   "cell_type": "code",
   "execution_count": 5,
   "metadata": {},
   "outputs": [
    {
     "name": "stdout",
     "output_type": "stream",
     "text": [
      "(1.4292258995086184+0j)*Y0*X1 + (-1.4292258995086184+0j)*X0*Y1\n"
     ]
    }
   ],
   "source": [
    "#check circuit as defined in pyquil\n",
    "pauli_sum_representation = qubitop_to_pyquilpauli(qubit_op)\n",
    "print(pauli_sum_representation)"
   ]
  },
  {
   "cell_type": "code",
   "execution_count": null,
   "metadata": {},
   "outputs": [],
   "source": []
  },
  {
   "cell_type": "code",
   "execution_count": 6,
   "metadata": {
    "scrolled": true
   },
   "outputs": [
    {
     "name": "stdout",
     "output_type": "stream",
     "text": [
      "X 0\n",
      "RX(pi/2) 0\n",
      "H 1\n",
      "CNOT 0 1\n",
      "RZ(2.858451799017237) 1\n",
      "CNOT 0 1\n",
      "RX(-pi/2) 0\n",
      "H 1\n",
      "H 0\n",
      "RX(pi/2) 1\n",
      "CNOT 0 1\n",
      "RZ(-2.858451799017237) 1\n",
      "CNOT 0 1\n",
      "H 0\n",
      "RX(-pi/2) 1\n",
      "\n",
      "15\n"
     ]
    }
   ],
   "source": [
    "from pyquil.quil import Program\n",
    "from forestopenfermion import exponentiate\n",
    "from pyquil.gates import *\n",
    "\n",
    "pyquil_program = exponentiate(qubit_op)\n",
    "pyquil_program = Program(X(0), pyquil_program)\n",
    "print(pyquil_program)\n",
    "print(len(pyquil_program))"
   ]
  },
  {
   "cell_type": "code",
   "execution_count": 7,
   "metadata": {},
   "outputs": [
    {
     "name": "stdout",
     "output_type": "stream",
     "text": [
      "\n",
      "(-0.9601827064+0j)|01> + (-0.2793728159+0j)|10>\n"
     ]
    }
   ],
   "source": [
    "from pyquil.api import WavefunctionSimulator\n",
    "from pyquil import Program\n",
    "\n",
    "print('')\n",
    "wfn = WavefunctionSimulator().wavefunction(pyquil_program)\n",
    "print(wfn)"
   ]
  },
  {
   "cell_type": "markdown",
   "metadata": {},
   "source": [
    "# The correct answer!"
   ]
  },
  {
   "cell_type": "code",
   "execution_count": 8,
   "metadata": {},
   "outputs": [],
   "source": [
    "# (0.2671478502+0j)|01> + (0.9636555537+0j)|10>"
   ]
  },
  {
   "cell_type": "code",
   "execution_count": 9,
   "metadata": {},
   "outputs": [],
   "source": [
    "#H0  Rx1  cX1-0  Rz1  cX1-0  H0  Rx1  Rx0  H1  cX1-0  Rz1  cX1-0  Rx0  H1"
   ]
  },
  {
   "cell_type": "markdown",
   "metadata": {},
   "source": [
    "# Now begin importing trial circuit to Qforte"
   ]
  },
  {
   "cell_type": "code",
   "execution_count": 10,
   "metadata": {},
   "outputs": [],
   "source": [
    "import qforte"
   ]
  },
  {
   "cell_type": "code",
   "execution_count": 11,
   "metadata": {},
   "outputs": [
    {
     "name": "stdout",
     "output_type": "stream",
     "text": [
      "\n",
      " Quantum operator:\n",
      "(-1.4292258995086184+0j)[X0 Y1]\n",
      "+ (1.4292258995086184+0j)[Y0 X1]\n"
     ]
    }
   ],
   "source": [
    "#get from openferion\n",
    "qforte_generator = qforte.build_from_openfermion(qubit_op)\n",
    "qforte.smart_print(qforte_generator)"
   ]
  },
  {
   "cell_type": "markdown",
   "metadata": {},
   "source": [
    "# Now try to exponentiate the full operator "
   ]
  },
  {
   "cell_type": "code",
   "execution_count": 12,
   "metadata": {
    "scrolled": false
   },
   "outputs": [
    {
     "name": "stdout",
     "output_type": "stream",
     "text": [
      "\n",
      " Quantum circuit:\n",
      "[H0  Rx1  cX1-0  Rz1  cX1-0  H0  Rx1  Rx0  H1  cX1-0  Rz1  cX1-0  Rx0  H1]\n"
     ]
    }
   ],
   "source": [
    "expn = qforte.trotterization.trotterize(qforte_generator)\n",
    "qforte.smart_print(expn)\n",
    "#expn.str()"
   ]
  },
  {
   "cell_type": "code",
   "execution_count": 13,
   "metadata": {},
   "outputs": [
    {
     "data": {
      "text/plain": [
       "['(0.000000 +0.000000 i) |00>',\n",
       " '(1.000000 +0.000000 i) |10>',\n",
       " '(0.000000 +0.000000 i) |01>',\n",
       " '(0.000000 +0.000000 i) |11>']"
      ]
     },
     "execution_count": 13,
     "metadata": {},
     "output_type": "execute_result"
    }
   ],
   "source": [
    "qc2 = qforte.QuantumComputer(2)\n",
    "qc2.apply_gate(qforte.make_gate('X',0,0))\n",
    "#qc2.apply_gate(qforte.make_gate('X',1,1))\n",
    "qc2.str()\n"
   ]
  },
  {
   "cell_type": "code",
   "execution_count": 14,
   "metadata": {},
   "outputs": [
    {
     "data": {
      "text/plain": [
       "['(0.000000 +0.000000 i) |00>',\n",
       " '(-0.960183 +0.000000 i) |10>',\n",
       " '(-0.279373 +0.000000 i) |01>',\n",
       " '(0.000000 +0.000000 i) |11>']"
      ]
     },
     "execution_count": 14,
     "metadata": {},
     "output_type": "execute_result"
    }
   ],
   "source": [
    "qc2.apply_circuit(expn)\n",
    "qc2.str()"
   ]
  },
  {
   "cell_type": "code",
   "execution_count": 15,
   "metadata": {},
   "outputs": [],
   "source": [
    "#(0.3510953756+0j)|0011> + (-0.6045891379+0j)|0101> + (-0.1071633537+0j)|0110> + (0.1697168339+0j)|1001> + (-0.6312331758+0j)|1010> + (-0.2691856261+0j)|1100>"
   ]
  },
  {
   "cell_type": "code",
   "execution_count": 16,
   "metadata": {},
   "outputs": [],
   "source": [
    "# Now try optemizing the operators... "
   ]
  }
 ],
 "metadata": {
  "kernelspec": {
   "display_name": "Python 3",
   "language": "python",
   "name": "python3"
  },
  "language_info": {
   "codemirror_mode": {
    "name": "ipython",
    "version": 3
   },
   "file_extension": ".py",
   "mimetype": "text/x-python",
   "name": "python",
   "nbconvert_exporter": "python",
   "pygments_lexer": "ipython3",
   "version": "3.6.5"
  }
 },
 "nbformat": 4,
 "nbformat_minor": 2
}
