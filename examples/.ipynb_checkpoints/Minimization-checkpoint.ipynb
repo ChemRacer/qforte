{
 "cells": [
  {
   "cell_type": "code",
   "execution_count": 3,
   "metadata": {},
   "outputs": [
    {
     "ename": "ModuleNotFoundError",
     "evalue": "No module named 'experiment'",
     "output_type": "error",
     "traceback": [
      "\u001b[0;31m---------------------------------------------------------------------------\u001b[0m",
      "\u001b[0;31mModuleNotFoundError\u001b[0m                       Traceback (most recent call last)",
      "\u001b[0;32m<ipython-input-3-d314ee05f4a3>\u001b[0m in \u001b[0;36m<module>\u001b[0;34m()\u001b[0m\n\u001b[0;32m----> 1\u001b[0;31m \u001b[0;32mimport\u001b[0m \u001b[0mqforte\u001b[0m\u001b[0;34m\u001b[0m\u001b[0m\n\u001b[0m\u001b[1;32m      2\u001b[0m \u001b[0;31m# import numpy\u001b[0m\u001b[0;34m\u001b[0m\u001b[0;34m\u001b[0m\u001b[0m\n\u001b[1;32m      3\u001b[0m \u001b[0;31m# import scipy\u001b[0m\u001b[0;34m\u001b[0m\u001b[0;34m\u001b[0m\u001b[0m\n\u001b[1;32m      4\u001b[0m \u001b[0;31m# from scipy.optimize import minimize\u001b[0m\u001b[0;34m\u001b[0m\u001b[0;34m\u001b[0m\u001b[0m\n",
      "\u001b[0;32m~/Src/Qforte/qforte/src/qforte/__init__.py\u001b[0m in \u001b[0;36m<module>\u001b[0;34m()\u001b[0m\n\u001b[1;32m      2\u001b[0m \u001b[0m__author__\u001b[0m \u001b[0;34m=\u001b[0m \u001b[0;34m'Qforte Dev'\u001b[0m\u001b[0;34m\u001b[0m\u001b[0m\n\u001b[1;32m      3\u001b[0m \u001b[0;34m\u001b[0m\u001b[0m\n\u001b[0;32m----> 4\u001b[0;31m \u001b[0;32mfrom\u001b[0m \u001b[0;34m.\u001b[0m\u001b[0mqforte\u001b[0m \u001b[0;32mimport\u001b[0m \u001b[0;34m*\u001b[0m \u001b[0;31m#'.' will import information from python files AND python extensions like .so files\u001b[0m\u001b[0;34m\u001b[0m\u001b[0m\n\u001b[0m\u001b[1;32m      5\u001b[0m \u001b[0;34m\u001b[0m\u001b[0m\n\u001b[1;32m      6\u001b[0m \u001b[0;32mfrom\u001b[0m \u001b[0mqforte\u001b[0m\u001b[0;34m.\u001b[0m\u001b[0mexperiment\u001b[0m \u001b[0;32mimport\u001b[0m \u001b[0;34m*\u001b[0m\u001b[0;34m\u001b[0m\u001b[0m\n",
      "\u001b[0;32m~/Src/Qforte/qforte/src/qforte/qforte.py\u001b[0m in \u001b[0;36m<module>\u001b[0;34m()\u001b[0m\n\u001b[1;32m      5\u001b[0m \"\"\"\n\u001b[1;32m      6\u001b[0m \u001b[0;34m\u001b[0m\u001b[0m\n\u001b[0;32m----> 7\u001b[0;31m \u001b[0;32mimport\u001b[0m \u001b[0mexperiment\u001b[0m\u001b[0;34m\u001b[0m\u001b[0m\n\u001b[0m\u001b[1;32m      8\u001b[0m \u001b[0;34m\u001b[0m\u001b[0m\n\u001b[1;32m      9\u001b[0m \u001b[0;32mdef\u001b[0m \u001b[0mabout_me\u001b[0m\u001b[0;34m(\u001b[0m\u001b[0myour_name\u001b[0m\u001b[0;34m)\u001b[0m\u001b[0;34m:\u001b[0m\u001b[0;34m\u001b[0m\u001b[0m\n",
      "\u001b[0;31mModuleNotFoundError\u001b[0m: No module named 'experiment'"
     ]
    }
   ],
   "source": [
    "import qforte\n",
    "# import numpy\n",
    "# import scipy\n",
    "# from scipy.optimize import minimize"
   ]
  },
  {
   "cell_type": "markdown",
   "metadata": {},
   "source": [
    "# want to make a parameterized gate acting on a single qubit that is simply a rotation \n"
   ]
  },
  {
   "cell_type": "code",
   "execution_count": null,
   "metadata": {},
   "outputs": [],
   "source": [
    "def prep_circuit_maker(param):\n",
    "    temp_gate = qforte.make_gate(\"Rx\", 0, 0, param)\n",
    "    return temp_gate\n",
    "\n",
    "def exp_avg(measurements):\n",
    "    nume = sum(measurements)\n",
    "    denom = len(measurements)\n",
    "    return nume/denom\n",
    "\n",
    "def Energy(Theta): \n",
    "    wfn1 = qforte.QuantumComputer(1)\n",
    "    Rot = prep_circuit_maker(Theta)\n",
    "    wfn1.apply_gate(Rot)\n",
    "    measurements = wfn1.measure_circuit(H, 100000)\n",
    "    return exp_avg(measurements)\n",
    "        "
   ]
  },
  {
   "cell_type": "markdown",
   "metadata": {},
   "source": [
    "# Start the Quantum Computer"
   ]
  },
  {
   "cell_type": "code",
   "execution_count": null,
   "metadata": {},
   "outputs": [],
   "source": [
    "# initialize a quantum computer object representing our wfn\n",
    "wfn = qforte.QuantumComputer(1)\n",
    "wfn.str()"
   ]
  },
  {
   "cell_type": "markdown",
   "metadata": {},
   "source": [
    "# A single state preparation "
   ]
  },
  {
   "cell_type": "code",
   "execution_count": null,
   "metadata": {},
   "outputs": [],
   "source": [
    "\n",
    "#make a state preparation circuit with an angle of 1.71 rads\n",
    "p1 = prep_circuit_maker(1.71)\n",
    "print(p1.str())\n",
    "\n",
    "#apply the state preperatio circuit to build the state\n",
    "wfn.apply_gate(p1)\n",
    "wfn.str()"
   ]
  },
  {
   "cell_type": "markdown",
   "metadata": {},
   "source": [
    "# Consider a hamiltonian as a single Z gate"
   ]
  },
  {
   "cell_type": "code",
   "execution_count": null,
   "metadata": {},
   "outputs": [],
   "source": [
    "#make hamiltonian \n",
    "H = qforte.QuantumCircuit()\n",
    "z0 = qforte.make_gate('Z',0,0)\n",
    "H.add_gate(z0)\n",
    "H.str()"
   ]
  },
  {
   "cell_type": "markdown",
   "metadata": {},
   "source": [
    "# Make an array of anlges to plot the PES"
   ]
  },
  {
   "cell_type": "code",
   "execution_count": null,
   "metadata": {},
   "outputs": [],
   "source": [
    "angle_range = numpy.linspace(0.0, 2 * numpy.pi, 20)\n",
    "exp_vals = [None]*len(angle_range)\n",
    "\n",
    "for k in range (len(angle_range)):\n",
    "    wfn1 = qforte.QuantumComputer(1)\n",
    "    #print(wfn1.str())\n",
    "    Rot = prep_circuit_maker(angle_range[k])\n",
    "    wfn1.apply_gate(Rot)\n",
    "    measurements = wfn1.measure_circuit(H,1000)\n",
    "    exp_vals[k] = exp_avg(measurements)\n",
    "    \n",
    "\n"
   ]
  },
  {
   "cell_type": "code",
   "execution_count": null,
   "metadata": {},
   "outputs": [],
   "source": [
    "import matplotlib.pyplot as plt\n",
    "plt.xlabel('Angle [radians]')\n",
    "plt.ylabel('Expectation value')\n",
    "plt.plot(angle_range, exp_vals)\n",
    "plt.show()"
   ]
  },
  {
   "cell_type": "code",
   "execution_count": null,
   "metadata": {},
   "outputs": [],
   "source": [
    "# def Energy(Theta): \n",
    "#     wfn1 = qforte.QuantumComputer(1)\n",
    "#     #print(wfn1.str())\n",
    "#     Rot = prep_circuit_maker(Theta)\n",
    "#     wfn1.apply_gate(Rot)\n",
    "#     measurements = wfn1.measure_circuit(H,1000000)\n",
    "#     return exp_avg(measurements)\n",
    "    "
   ]
  },
  {
   "cell_type": "markdown",
   "metadata": {},
   "source": [
    "# Find param theta that minimizes energy"
   ]
  },
  {
   "cell_type": "code",
   "execution_count": null,
   "metadata": {},
   "outputs": [],
   "source": [
    "res = minimize(Energy, [0.1], method='nelder-mead', options={'xtol': 1e-8, 'disp': True})"
   ]
  },
  {
   "cell_type": "code",
   "execution_count": null,
   "metadata": {},
   "outputs": [],
   "source": [
    "print(res)"
   ]
  },
  {
   "cell_type": "code",
   "execution_count": null,
   "metadata": {},
   "outputs": [],
   "source": []
  }
 ],
 "metadata": {
  "kernelspec": {
   "display_name": "Python 3",
   "language": "python",
   "name": "python3"
  },
  "language_info": {
   "codemirror_mode": {
    "name": "ipython",
    "version": 3
   },
   "file_extension": ".py",
   "mimetype": "text/x-python",
   "name": "python",
   "nbconvert_exporter": "python",
   "pygments_lexer": "ipython3",
   "version": "3.6.5"
  }
 },
 "nbformat": 4,
 "nbformat_minor": 2
}
