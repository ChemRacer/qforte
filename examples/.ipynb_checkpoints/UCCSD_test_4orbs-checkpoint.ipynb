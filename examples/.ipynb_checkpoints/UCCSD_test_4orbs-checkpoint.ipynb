{
 "cells": [
  {
   "cell_type": "code",
   "execution_count": 1,
   "metadata": {},
   "outputs": [],
   "source": [
    "import numpy\n",
    "from numpy.random import randn\n",
    "\n",
    "from openfermion.transforms._jordan_wigner import *\n",
    "\n",
    "from openfermion.utils._trotter_exp_to_qgates import *\n",
    "\n",
    "from openfermion.utils import (commutator, count_qubits, expectation,\n",
    "                               hermitian_conjugated, normal_ordered,\n",
    "                               jordan_wigner_sparse, jw_hartree_fock_state,\n",
    "                               s_squared_operator, sz_operator)\n",
    "\n",
    "from openfermion.utils._unitary_cc import (uccsd_generator,\n",
    "                                           uccsd_singlet_generator,\n",
    "                                           uccsd_singlet_get_packed_amplitudes,\n",
    "                                           uccsd_singlet_paramsize)"
   ]
  },
  {
   "cell_type": "code",
   "execution_count": 2,
   "metadata": {},
   "outputs": [
    {
     "name": "stdout",
     "output_type": "stream",
     "text": [
      "singles\n",
      "[[ 0.51227268 -0.69628647  0.85116522 -0.25492813]\n",
      " [ 0.17984188  0.34387748 -1.90435664  2.68459714]\n",
      " [-0.91893964 -0.82459149  0.60305229  0.47536581]\n",
      " [-0.87924859  1.37266041 -0.20722304 -0.97477827]]\n",
      "doubles\n",
      "[[[[ 2.85713329e-01  6.97760829e-01  1.27859635e+00  2.13871368e+00]\n",
      "   [ 3.59444374e-01  3.02889086e-02  2.84943484e-01  1.75254706e+00]\n",
      "   [-6.45468043e-01  1.11336444e+00 -2.05226132e+00  7.93281483e-01]\n",
      "   [-1.29766971e+00 -1.88974014e-01 -3.74121514e-01  1.29582168e+00]]\n",
      "\n",
      "  [[ 6.24338344e-02  1.14749057e+00  7.60876618e-01  1.09203718e+00]\n",
      "   [-4.76516392e-01 -9.46335051e-01 -1.57915334e+00 -2.63814925e+00]\n",
      "   [-1.58641501e-01  4.19655954e-01  9.15462600e-02  6.05864957e-01]\n",
      "   [-3.20838019e-01 -3.57281590e-01  3.44873280e-01  4.81401361e-01]]\n",
      "\n",
      "  [[-2.49332525e-01 -1.86357308e+00 -5.18495801e-01 -1.09638164e+00]\n",
      "   [-1.03292225e+00 -1.44414361e+00 -2.60133473e+00  2.89006043e-01]\n",
      "   [-1.29622203e+00 -6.28067333e-01  6.43821599e-01 -2.27005484e-01]\n",
      "   [ 5.58232483e-01 -2.10668337e-01  9.49786612e-01 -2.03180675e+00]]\n",
      "\n",
      "  [[-2.77587089e-01  1.12234234e+00 -7.42786400e-01 -1.02791784e+00]\n",
      "   [-1.42614489e+00 -1.01136444e+00 -3.13366858e-01 -6.34592373e-01]\n",
      "   [-6.24753308e-01 -8.05118792e-01 -6.29803729e-02  1.13054426e+00]\n",
      "   [ 9.71733463e-02  1.27375972e+00  3.73148445e-01 -3.40737125e-01]]]\n",
      "\n",
      "\n",
      " [[[-5.30955338e-01  1.50019555e+00 -4.82607764e-01 -1.70347164e+00]\n",
      "   [-1.89884432e-01  8.09602710e-01  2.67652498e+00  3.82193231e-01]\n",
      "   [-4.46266635e-01 -1.36002157e+00 -1.87863708e+00  2.63688332e+00]\n",
      "   [-1.40699527e-02  1.83247864e+00 -5.33213239e-02  8.91380619e-02]]\n",
      "\n",
      "  [[-5.42015356e-01 -2.82330766e-01 -9.11380838e-01 -4.50878766e-01]\n",
      "   [ 1.29676068e+00  1.25681727e+00 -4.06447364e-01  2.16553835e+00]\n",
      "   [-3.15828289e-01 -1.91473041e+00  1.62583689e-01 -6.55522073e-01]\n",
      "   [-1.54450577e+00  1.64078770e+00  7.07764239e-01  4.96596699e-01]]\n",
      "\n",
      "  [[ 1.07333384e-01 -6.89292507e-01 -9.37891240e-01  8.21056079e-01]\n",
      "   [-1.28230491e+00  1.27492818e+00 -1.16758295e+00  4.61950013e-01]\n",
      "   [ 1.72606574e-01 -1.47987296e+00 -5.50732939e-01 -5.51916647e-01]\n",
      "   [-4.60592106e-01  1.14580122e+00  4.64459021e-01 -5.62508460e-01]]\n",
      "\n",
      "  [[-7.16054683e-01 -4.76511458e-01  1.25119295e+00 -5.57774495e-01]\n",
      "   [ 3.01750397e-01 -7.33304154e-02 -1.08505345e+00 -9.42747716e-01]\n",
      "   [ 7.82370282e-01  1.81907351e-01 -9.50155297e-01  8.15845531e-01]\n",
      "   [-8.93100383e-01  9.44280987e-01  9.64858938e-01 -1.58312761e+00]]]\n",
      "\n",
      "\n",
      " [[[ 5.11701287e-01 -8.16304782e-01 -9.07831649e-01 -1.34386482e-01]\n",
      "   [-1.39777944e+00  8.41093554e-02  1.02902009e+00 -1.79554927e-01]\n",
      "   [ 5.38582932e-01  7.30691943e-01 -2.01794561e-01  1.55861577e+00]\n",
      "   [-5.01577086e-01  2.27197709e-01  1.31120957e-01  1.31507409e+00]]\n",
      "\n",
      "  [[ 1.67513508e+00  8.60121000e-01  1.29972314e+00 -4.79924844e-02]\n",
      "   [-5.48528125e-01 -3.93575190e-01  1.51913408e+00 -9.05613109e-01]\n",
      "   [-6.65024099e-01 -1.75577552e+00  1.00704570e+00  2.11313351e-01]\n",
      "   [ 1.90700539e-01 -9.77409620e-01  3.57339817e-01 -1.59307460e+00]]\n",
      "\n",
      "  [[-3.51896649e-02  1.14546473e+00  1.99074447e-02  3.32921867e-01]\n",
      "   [ 1.42862754e-01  1.21053434e-01  1.59539004e-01  1.50361255e+00]\n",
      "   [ 2.95887246e-01 -1.92621560e-03  1.15665020e+00 -2.44384711e+00]\n",
      "   [ 1.95604110e+00 -1.86096894e+00 -6.67988165e-02 -1.31822000e+00]]\n",
      "\n",
      "  [[-1.05835636e+00 -9.23011279e-01 -1.30627747e+00 -9.23548611e-01]\n",
      "   [-2.56204428e-01 -4.53475680e-01  1.34490222e+00 -8.24081943e-01]\n",
      "   [ 7.68009632e-02  6.02172162e-01 -1.02088877e+00 -1.47007313e-01]\n",
      "   [-5.83797933e-01 -6.72165156e-01 -2.84894742e-01  3.29431131e-01]]]\n",
      "\n",
      "\n",
      " [[[-4.77914641e-01  3.08577552e-02  2.94360616e-01  2.69365395e+00]\n",
      "   [-1.33188878e+00  1.38082228e+00 -9.49517585e-01  1.29350506e+00]\n",
      "   [-2.54644241e-01  1.08484670e+00 -7.75549915e-01 -5.11747650e-01]\n",
      "   [-1.93377423e+00  1.57056144e+00 -3.59001769e-01  1.85647045e-01]]\n",
      "\n",
      "  [[ 1.18691722e+00  6.97048734e-02  8.92377519e-01 -4.84209746e-01]\n",
      "   [ 1.71846796e+00 -3.58273088e-01 -2.08189475e-01 -7.83200278e-01]\n",
      "   [-5.52268910e-01 -4.00349737e-01  1.51459561e+00  3.83440825e-01]\n",
      "   [-1.65769638e+00 -5.07707906e-01 -1.43686549e+00 -1.03479776e+00]]\n",
      "\n",
      "  [[ 6.77779190e-01 -1.15059187e+00 -1.08769047e+00  5.70858439e-01]\n",
      "   [ 3.32466487e-01 -8.15767437e-01  6.09877176e-02 -5.11439817e-01]\n",
      "   [-5.90500044e-02  2.23052515e-02  3.29543561e-01  1.40271143e+00]\n",
      "   [-1.41992737e+00  4.60524752e-01 -4.68263328e-01 -9.22260042e-01]]\n",
      "\n",
      "  [[ 4.86043365e-01  1.34642352e-01  4.53338692e-01 -4.95017426e-01]\n",
      "   [ 9.08442692e-01  1.16218914e+00  5.64970770e-01 -1.39852558e+00]\n",
      "   [-3.14402396e-01  3.19171529e-01 -1.78824876e+00  9.36016599e-02]\n",
      "   [-8.21736089e-01 -1.65940510e-01  1.18125675e+00 -1.22857981e-01]]]]\n"
     ]
    }
   ],
   "source": [
    "test_orbitals = 4\n",
    "\n",
    "single_amplitudes = randn(*(test_orbitals,) * 2)\n",
    "double_amplitudes = randn(*(test_orbitals,) * 4)\n",
    "print('singles')\n",
    "print(single_amplitudes)\n",
    "print('doubles')\n",
    "print(double_amplitudes)\n"
   ]
  },
  {
   "cell_type": "code",
   "execution_count": 3,
   "metadata": {
    "scrolled": false
   },
   "outputs": [],
   "source": [
    "generator = uccsd_generator(single_amplitudes, double_amplitudes)\n",
    "qubit_op = jordan_wigner(generator)\n",
    "qubit_op *= 1.0j\n",
    "\n",
    "# print('openferion pre trotterized generator')\n",
    "# print(generator)\n",
    "# print('')\n",
    "# print(qubit_op)\n",
    "\n",
    "\n",
    "# for qubit_terms, coefficient in qubit_op.terms.items():\n",
    "#     print('')\n",
    "#     print(coefficient)\n",
    "#     for tensor_term in qubit_terms:\n",
    "#         print(tensor_term[1], tensor_term[0])\n"
   ]
  },
  {
   "cell_type": "code",
   "execution_count": 4,
   "metadata": {},
   "outputs": [],
   "source": [
    "from forestopenfermion.pyquil_connector import qubitop_to_pyquilpauli\n",
    "from openfermion.ops import QubitOperator\n"
   ]
  },
  {
   "cell_type": "code",
   "execution_count": 5,
   "metadata": {},
   "outputs": [],
   "source": [
    "pauli_sum_representation = qubitop_to_pyquilpauli(qubit_op)\n",
    "# print(pauli_sum_representation)"
   ]
  },
  {
   "cell_type": "code",
   "execution_count": 6,
   "metadata": {
    "scrolled": false
   },
   "outputs": [],
   "source": [
    "from pyquil.quil import Program\n",
    "from forestopenfermion import exponentiate\n",
    "from pyquil.gates import *\n",
    "\n",
    "pyquil_program = exponentiate(qubit_op)\n",
    "pyquil_program = Program(X(0), X(1), pyquil_program)\n",
    "# print(pyquil_program)\n",
    "# print(len(pyquil_program))"
   ]
  },
  {
   "cell_type": "markdown",
   "metadata": {},
   "source": [
    "[H0  H1  H2  Rx3  cX1-0  cX2-1  cX3-2  Rz3  cX3-2  cX2-1  cX1-0  H0  H1  H2  Rx3  H0  H1  Rx2  H3  cX1-0  cX2-1  cX3-2  Rz3  cX3-2  cX2-1  cX1-0  H0  H1  Rx2  H3  H0  Rx1  cX1-0  Rz1  cX1-0  H0  Rx1  H0  Rx1  H2  H3  cX1-0  cX2-1  cX3-2  Rz3  cX3-2  cX2-1  cX1-0  H0  Rx1  H2  H3  H0  Rx1  Rx2  Rx3  cX1-0  cX2-1  cX3-2  Rz3  cX3-2  cX2-1  cX1-0  H0  Rx1  Rx2  Rx3  H0  Rx1  cX1-0  cX2-1  Rz2  cX2-1  cX1-0  H0  Rx1  H0  Rx1  cX1-0  cX3-1  Rz3  cX3-1  cX1-0  H0  Rx1  H0  Rx2  cX1-0  cX2-1  Rz2  cX2-1  cX1-0  H0  Rx2  H0  Rx2  cX1-0  cX2-1  cX3-2  Rz3  cX3-2  cX2-1  cX1-0  H0  Rx2  H0  Rx3  cX1-0  cX2-1  cX3-2  Rz3  cX3-2  cX2-1  cX1-0  H0  Rx3  H0  Rx3  cX1-0  cX3-1  Rz3  cX3-1  cX1-0  H0  Rx3  H0  Rx2  cX2-0  Rz2  cX2-0  H0  Rx2  H0  Rx3  cX2-0  cX3-2  Rz3  cX3-2  cX2-0  H0  Rx3  Rx0  H1  cX1-0  Rz1  cX1-0  Rx0  H1  Rx0  H1  H2  H3  cX1-0  cX2-1  cX3-2  Rz3  cX3-2  cX2-1  cX1-0  Rx0  H1  H2  H3  Rx0  H1  Rx2  Rx3  cX1-0  cX2-1  cX3-2  Rz3  cX3-2  cX2-1  cX1-0  Rx0  H1  Rx2  Rx3  Rx0  H1  cX1-0  cX2-1  Rz2  cX2-1  cX1-0  Rx0  H1  Rx0  H1  cX1-0  cX3-1  Rz3  cX3-1  cX1-0  Rx0  H1  Rx0  Rx1  H2  Rx3  cX1-0  cX2-1  cX3-2  Rz3  cX3-2  cX2-1  cX1-0  Rx0  Rx1  H2  Rx3  Rx0  Rx1  Rx2  H3  cX1-0  cX2-1  cX3-2  Rz3  cX3-2  cX2-1  cX1-0  Rx0  Rx1  Rx2  H3  Rx0  H2  cX1-0  cX2-1  Rz2  cX2-1  cX1-0  Rx0  H2  Rx0  H2  cX1-0  cX2-1  cX3-2  Rz3  cX3-2  cX2-1  cX1-0  Rx0  H2  Rx0  H3  cX1-0  cX2-1  cX3-2  Rz3  cX3-2  cX2-1  cX1-0  Rx0  H3  Rx0  H3  cX1-0  cX3-1  Rz3  cX3-1  cX1-0  Rx0  H3  Rx0  H2  cX2-0  Rz2  cX2-0  Rx0  H2  Rx0  H3  cX2-0  cX3-2  Rz3  cX3-2  cX2-0  Rx0  H3  H1  Rx2  cX1-0  cX2-1  Rz2  cX2-1  cX1-0  H1  Rx2  H1  Rx3  cX1-0  cX2-1  cX3-2  Rz3  cX3-2  cX2-1  cX1-0  H1  Rx3  Rx1  H2  cX1-0  cX2-1  Rz2  cX2-1  cX1-0  Rx1  H2  Rx1  H3  cX1-0  cX2-1  cX3-2  Rz3  cX3-2  cX2-1  cX1-0  Rx1  H3  H2  Rx3  cX2-0  cX3-2  Rz3  cX3-2  cX2-0  H2  Rx3  Rx2  H3  cX2-0  cX3-2  Rz3  cX3-2  cX2-0  Rx2  H3  H1  Rx2  cX2-1  Rz2  cX2-1  H1  Rx2  H1  Rx2  cX2-1  cX3-2  Rz3  cX3-2  cX2-1  H1  Rx2  H1  Rx3  cX2-1  cX3-2  Rz3  cX3-2  cX2-1  H1  Rx3  H1  Rx3  cX3-1  Rz3  cX3-1  H1  Rx3  Rx1  H2  cX2-1  Rz2  cX2-1  Rx1  H2  Rx1  H2  cX2-1  cX3-2  Rz3  cX3-2  cX2-1  Rx1  H2  Rx1  H3  cX2-1  cX3-2  Rz3  cX3-2  cX2-1  Rx1  H3  Rx1  H3  cX3-1  Rz3  cX3-1  Rx1  H3  H2  Rx3  cX2-1  cX3-2  Rz3  cX3-2  cX2-1  H2  Rx3  Rx2  H3 # cX2-1  cX3-2  Rz3  cX3-2  cX2-1  Rx2  H3  H2  Rx3  cX3-2  Rz3  cX3-2  H2  Rx3  Rx2  H3  cX3-2  Rz3  cX3-2  Rx2  H3]"
   ]
  },
  {
   "cell_type": "markdown",
   "metadata": {},
   "source": [
    "# The correct answer"
   ]
  },
  {
   "cell_type": "code",
   "execution_count": 7,
   "metadata": {},
   "outputs": [
    {
     "name": "stdout",
     "output_type": "stream",
     "text": [
      "\n",
      "(-0.0890675234+0j)|0011> + (0.555595074+0j)|0101> + (0.5098896977+0j)|0110> + (-0.0900556356+0j)|1001> + (0.643189762+0j)|1010> + (-0.039881059+0j)|1100>\n"
     ]
    }
   ],
   "source": [
    "from pyquil.api import WavefunctionSimulator\n",
    "from pyquil import Program\n",
    "\n",
    "\n",
    "print('')\n",
    "wfn = WavefunctionSimulator().wavefunction(pyquil_program)\n",
    "print(wfn)"
   ]
  },
  {
   "cell_type": "code",
   "execution_count": 8,
   "metadata": {},
   "outputs": [],
   "source": [
    "# ['(0.000000 +0.000000 i) |0000>',\n",
    "#  '(0.000000 +0.000000 i) |1000>',\n",
    "#  '(0.000000 -0.000000 i) |0100>',\n",
    "#  '(-0.555451 +0.000000 i) |1100>',\n",
    "#  '(0.000000 -0.000000 i) |0010>',\n",
    "#  '(-0.365344 +0.000000 i) |1010>',\n",
    "#  '(-0.619681 +0.000000 i) |0110>',\n",
    "#  '(0.000000 -0.000000 i) |1110>',\n",
    "#  '(0.000000 +0.000000 i) |0001>',\n",
    "#  '(0.055498 +0.000000 i) |1001>',\n",
    "#  '(0.159086 +0.000000 i) |0101>',\n",
    "#  '(0.000000 +0.000000 i) |1101>',\n",
    "#  '(-0.381582 +0.000000 i) |0011>',\n",
    "#  '(0.000000 -0.000000 i) |1011>',\n",
    "#  '(0.000000 +0.000000 i) |0111>',\n",
    "#  '(0.000000 +0.000000 i) |1111>']"
   ]
  },
  {
   "cell_type": "markdown",
   "metadata": {},
   "source": [
    "# Now begin importing trial circuit to Qforte"
   ]
  },
  {
   "cell_type": "code",
   "execution_count": 9,
   "metadata": {},
   "outputs": [],
   "source": [
    "import qforte"
   ]
  },
  {
   "cell_type": "code",
   "execution_count": 10,
   "metadata": {},
   "outputs": [],
   "source": [
    "#get from openferion\n",
    "qforte_generator = qforte.build_from_openfermion(qubit_op)\n",
    "#qforte.smart_print(qforte_generator)"
   ]
  },
  {
   "cell_type": "markdown",
   "metadata": {},
   "source": [
    "# Now try to exponentiate the full operator "
   ]
  },
  {
   "cell_type": "code",
   "execution_count": 11,
   "metadata": {
    "scrolled": false
   },
   "outputs": [],
   "source": [
    "expn_generator = qforte.trotterization.trotterize(qforte_generator)\n",
    "#qforte.smart_print(expn)\n",
    "#expn.str()"
   ]
  },
  {
   "cell_type": "code",
   "execution_count": 12,
   "metadata": {},
   "outputs": [],
   "source": [
    "# Set HF state\n",
    "qc2 = qforte.QuantumComputer(4)\n",
    "qc2.apply_gate(qforte.make_gate('X',0,0))\n",
    "qc2.apply_gate(qforte.make_gate('X',1,1))\n",
    "#qc2.str()"
   ]
  },
  {
   "cell_type": "code",
   "execution_count": 13,
   "metadata": {},
   "outputs": [
    {
     "data": {
      "text/plain": [
       "['(-0.000000 +0.000000 i) |0000>',\n",
       " '(0.000000 +0.000000 i) |1000>',\n",
       " '(0.000000 -0.000000 i) |0100>',\n",
       " '(-0.089068 +0.000000 i) |1100>',\n",
       " '(0.000000 -0.000000 i) |0010>',\n",
       " '(0.555595 +0.000000 i) |1010>',\n",
       " '(0.509890 +0.000000 i) |0110>',\n",
       " '(0.000000 -0.000000 i) |1110>',\n",
       " '(0.000000 -0.000000 i) |0001>',\n",
       " '(-0.090056 +0.000000 i) |1001>',\n",
       " '(0.643190 +0.000000 i) |0101>',\n",
       " '(0.000000 -0.000000 i) |1101>',\n",
       " '(-0.039881 +0.000000 i) |0011>',\n",
       " '(0.000000 -0.000000 i) |1011>',\n",
       " '(0.000000 -0.000000 i) |0111>',\n",
       " '(-0.000000 +0.000000 i) |1111>']"
      ]
     },
     "execution_count": 13,
     "metadata": {},
     "output_type": "execute_result"
    }
   ],
   "source": [
    "qc2.apply_circuit(expn_generator)\n",
    "qc2.str()"
   ]
  },
  {
   "cell_type": "markdown",
   "metadata": {},
   "source": [
    "# Now set up for variational optemization via VQE"
   ]
  },
  {
   "cell_type": "code",
   "execution_count": 14,
   "metadata": {},
   "outputs": [],
   "source": [
    "# import to get hamiltonian from psi \n",
    "import unittest\n",
    "import qforte\n",
    "from openfermion.hamiltonians import MolecularData\n",
    "from openfermion.transforms import get_fermion_operator, jordan_wigner\n",
    "from openfermionpsi4 import run_psi4\n",
    "import numpy"
   ]
  },
  {
   "cell_type": "code",
   "execution_count": 15,
   "metadata": {},
   "outputs": [
    {
     "name": "stdout",
     "output_type": "stream",
     "text": [
      "Hartree-Fock energy of -1.116151448914139 Hartree.\n",
      "Hartree-Fock energy of -1.1371170673687787 Hartree.\n",
      "Hartree-Fock energy of -1.1371170673370452 Hartree.\n"
     ]
    }
   ],
   "source": [
    "# Set molecule parameters.\n",
    "basis = 'sto-3g'\n",
    "multiplicity = 1\n",
    "bond_length_interval = 0.75\n",
    "n_points = 1\n",
    "\n",
    "# Set calculation parameters.\n",
    "run_scf = 1\n",
    "run_mp2 = 0\n",
    "run_cisd = 0\n",
    "run_ccsd = 1\n",
    "run_fci = 1\n",
    "delete_input = True\n",
    "delete_output = True\n",
    "\n",
    "# Generate molecule at different bond lengths.\n",
    "hf_energies = []\n",
    "fci_energies = []\n",
    "bond_lengths = []\n",
    "for point in range(1, n_points + 1):\n",
    "    bond_length = bond_length_interval * float(point)\n",
    "    bond_lengths += [bond_length]\n",
    "    geometry = [('H', (0., 0., 0.)), ('H', (0., 0., bond_length))]\n",
    "    molecule = MolecularData(\n",
    "        geometry, basis, multiplicity,\n",
    "        description=str(round(bond_length, 2)))\n",
    "    \n",
    "    # Run Psi4.\n",
    "    molecule = run_psi4(molecule,\n",
    "                        run_scf=run_scf,\n",
    "                        run_mp2=run_mp2,\n",
    "                        run_cisd=run_cisd,\n",
    "                        run_ccsd=run_ccsd,\n",
    "                        run_fci=run_fci)\n",
    "    \n",
    "print('Hartree-Fock energy of {} Hartree.'.format(molecule.hf_energy))\n",
    "print('Hartree-Fock energy of {} Hartree.'.format(molecule.ccsd_energy))\n",
    "print('Hartree-Fock energy of {} Hartree.'.format(molecule.fci_energy))"
   ]
  },
  {
   "cell_type": "code",
   "execution_count": 16,
   "metadata": {},
   "outputs": [],
   "source": [
    "#populate data and integrals\n",
    "molecule.load()\n",
    "\n",
    "# Get the Hamiltonian in an active space.\n",
    "active_space_start = 0\n",
    "active_space_stop = 2\n",
    "\n",
    "molecular_hamiltonian = molecule.get_molecular_hamiltonian(\n",
    "    occupied_indices=range(active_space_start),\n",
    "    active_indices=range(active_space_start, active_space_stop))\n",
    "\n",
    "# Map operator to fermions and qubits.\n",
    "fermion_hamiltonian = get_fermion_operator(molecular_hamiltonian)\n",
    "qubit_hamiltonian = jordan_wigner(fermion_hamiltonian)\n",
    "#qubit_hamiltonian.compress()\n",
    "# print('The Jordan-Wigner Molecular Hamiltonian in canonical basis:\\n{}'.format(qubit_hamiltonian))\n",
    "\n",
    "# print('\\nBuild Qforte Hamiltonian and generator to calculate the expectation value')\n",
    "qforte_hamiltonian = qforte.build_from_openfermion(qubit_hamiltonian)\n",
    "# print('\\nThe Molecular Hamiltonian in canonical basis:')\n",
    "# qforte.smart_print(qforte_hamiltonian)"
   ]
  },
  {
   "cell_type": "markdown",
   "metadata": {},
   "source": [
    "# Set up VQE object"
   ]
  },
  {
   "cell_type": "code",
   "execution_count": 17,
   "metadata": {},
   "outputs": [],
   "source": [
    "myVQE = qforte.VQE(4, 2, expn_generator, qforte_hamiltonian, 5000) "
   ]
  },
  {
   "cell_type": "code",
   "execution_count": 18,
   "metadata": {},
   "outputs": [
    {
     "name": "stdout",
     "output_type": "stream",
     "text": [
      "-1.1150971740018751\n"
     ]
    }
   ],
   "source": [
    "circ = qforte.QuantumCircuit()\n",
    "Exper2 = qforte.Experiment(4, 2, expn_generator, qforte_hamiltonian, 5000)\n",
    "params2 = [0.0] * 44 \n",
    "print(Exper2.experimental_avg(params2))"
   ]
  },
  {
   "cell_type": "markdown",
   "metadata": {},
   "source": [
    "# Perform the porcedure "
   ]
  },
  {
   "cell_type": "code",
   "execution_count": 19,
   "metadata": {},
   "outputs": [
    {
     "name": "stdout",
     "output_type": "stream",
     "text": [
      "44\n",
      "Warning: Maximum number of function evaluations has been exceeded.\n",
      "-1.1210047489412855\n"
     ]
    }
   ],
   "source": [
    "optemized = myVQE.do_vqe()\n",
    "print(optemized.fun)\n"
   ]
  },
  {
   "cell_type": "code",
   "execution_count": 21,
   "metadata": {},
   "outputs": [
    {
     "name": "stdout",
     "output_type": "stream",
     "text": [
      "[ 1.27496503e-04  2.49710455e-06 -1.35858017e-07  1.31632010e-06\n",
      "  2.49780497e-06  2.49660118e-06 -1.59549982e-06  2.49722029e-06\n",
      "  2.49671816e-06  2.49753250e-06 -3.02445913e-07  2.49517296e-06\n",
      " -2.17614365e-06 -1.24724284e-06  6.35729760e-05  1.57208249e-06\n",
      "  2.61433512e-06 -1.98971174e-06  2.49554872e-06 -2.38871160e-06\n",
      "  2.49638730e-06 -2.07598886e-06  1.70311504e-06 -4.09694408e-07\n",
      "  2.49658807e-06  2.49662199e-06  2.49686560e-06 -1.79639024e-06\n",
      "  2.49648924e-06  2.49752156e-06  2.49720556e-06  2.49642315e-06\n",
      "  2.49706417e-06  1.43562429e-06  2.49753598e-06  1.38585757e-06\n",
      "  2.01785333e-06  2.49690795e-06  2.49610456e-06  2.49723816e-06\n",
      " -1.41650374e-06  2.49673198e-06  2.49580330e-06  2.49640663e-06]\n"
     ]
    }
   ],
   "source": [
    "print(optemized.x)"
   ]
  }
 ],
 "metadata": {
  "kernelspec": {
   "display_name": "Python 3",
   "language": "python",
   "name": "python3"
  },
  "language_info": {
   "codemirror_mode": {
    "name": "ipython",
    "version": 3
   },
   "file_extension": ".py",
   "mimetype": "text/x-python",
   "name": "python",
   "nbconvert_exporter": "python",
   "pygments_lexer": "ipython3",
   "version": "3.6.7"
  }
 },
 "nbformat": 4,
 "nbformat_minor": 2
}
